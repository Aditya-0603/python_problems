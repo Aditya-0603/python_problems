{
 "cells": [
  {
   "cell_type": "markdown",
   "id": "c5cc5be9-8746-4d7e-97cf-43a90ffbd539",
   "metadata": {},
   "source": [
    "# 1. Explain about identifiers and their rules.\r\n"
   ]
  },
  {
   "cell_type": "markdown",
   "id": "592f1742-c9c2-4ebd-8804-b701ffe4f1a9",
   "metadata": {},
   "source": [
    "-Identifiers are the names used to identify variables, functions, classes, modules, or objects in a program.  \n",
    "-They are user-defined names that help in uniquely identifying a program element.  \n",
    "**Rules for Writing Identifiers:**\n",
    "- 1.  An identifier cannot start with a digit. 1variable is invalid, but variable1 is perfectly fin  .\n",
    " - 2. No special symbol can be   s\n",
    "\r\n",
    " - 3. Keywords cannot be used as identi  i.\r\n",
    "\r\n",
    " - 4. An identifier cannot be in  qes.\r\n",
    "\r\n",
    " - 5. An identifier can be of a  yngth.\r\n",
    "\r\n",
    " - 6. Identifiers can be a combination of letters in lowercase (a to z) or uppercase (A to Z) or digits (0 to 9) or an und  erscore (_).\r\n",
    "    \n",
    "\n"
   ]
  },
  {
   "cell_type": "markdown",
   "id": "96305dc5-ed48-4e81-a240-9545bc3c26a8",
   "metadata": {},
   "source": [
    "# 2. Run all the following variables and separate valid and Invalid Variables?\r\n"
   ]
  },
  {
   "cell_type": "markdown",
   "id": "d1191dd5-7aa0-46d0-a27b-7a650292320e",
   "metadata": {},
   "source": [
    "## Valid varriables"
   ]
  },
  {
   "cell_type": "code",
   "execution_count": 79,
   "id": "f79f1b8d-e9e8-4389-b12a-04053baa8935",
   "metadata": {},
   "outputs": [
    {
     "data": {
      "text/plain": [
       "25"
      ]
     },
     "execution_count": 79,
     "metadata": {},
     "output_type": "execute_result"
    }
   ],
   "source": [
    "my_variable = 25\n",
    "my_variable"
   ]
  },
  {
   "cell_type": "code",
   "execution_count": 81,
   "id": "4fd85ad8-9eb5-43fe-873c-e795eea7d6c5",
   "metadata": {},
   "outputs": [
    {
     "data": {
      "text/plain": [
       "40.7"
      ]
     },
     "execution_count": 81,
     "metadata": {},
     "output_type": "execute_result"
    }
   ],
   "source": [
    "counter = 40.7\n",
    "counter"
   ]
  },
  {
   "cell_type": "code",
   "execution_count": 83,
   "id": "445527e5-4640-4ccd-aa3c-48573b9b9a6f",
   "metadata": {},
   "outputs": [
    {
     "data": {
      "text/plain": [
       "136"
      ]
     },
     "execution_count": 83,
     "metadata": {},
     "output_type": "execute_result"
    }
   ],
   "source": [
    "Name123 = 136\n",
    "Name123"
   ]
  },
  {
   "cell_type": "code",
   "execution_count": 85,
   "id": "e0f812e8-269f-4e39-bc1b-9780acc3840a",
   "metadata": {},
   "outputs": [
    {
     "data": {
      "text/plain": [
       "True"
      ]
     },
     "execution_count": 85,
     "metadata": {},
     "output_type": "execute_result"
    }
   ],
   "source": [
    "myFunction = True\n",
    "myFunction"
   ]
  },
  {
   "cell_type": "code",
   "execution_count": 87,
   "id": "ea6fdd9a-67b4-402e-bfe3-b07044135f59",
   "metadata": {},
   "outputs": [
    {
     "data": {
      "text/plain": [
       "False"
      ]
     },
     "execution_count": 87,
     "metadata": {},
     "output_type": "execute_result"
    }
   ],
   "source": [
    "_data = False\n",
    "_data"
   ]
  },
  {
   "cell_type": "markdown",
   "id": "5bf14acb-028f-4678-b1f8-64cbdcfe39b9",
   "metadata": {},
   "source": [
    "## Invalid Variables"
   ]
  },
  {
   "cell_type": "code",
   "execution_count": 90,
   "id": "46c1be9c-a797-4f79-a16f-c9915ce352ce",
   "metadata": {},
   "outputs": [
    {
     "ename": "SyntaxError",
     "evalue": "unterminated string literal (detected at line 2) (960727181.py, line 2)",
     "output_type": "error",
     "traceback": [
      "\u001b[1;36m  Cell \u001b[1;32mIn[90], line 2\u001b[1;36m\u001b[0m\n\u001b[1;33m    \"if_condition?\u001b[0m\n\u001b[1;37m    ^\u001b[0m\n\u001b[1;31mSyntaxError\u001b[0m\u001b[1;31m:\u001b[0m unterminated string literal (detected at line 2)\n"
     ]
    }
   ],
   "source": [
    "\"if_condition? = \"\"Innomatics\"\"\"\n",
    "\"if_condition?"
   ]
  },
  {
   "cell_type": "code",
   "execution_count": 92,
   "id": "a96e8586-5482-4e2d-baaa-3120e80431ce",
   "metadata": {},
   "outputs": [
    {
     "ename": "SyntaxError",
     "evalue": "unterminated string literal (detected at line 2) (50635035.py, line 2)",
     "output_type": "error",
     "traceback": [
      "\u001b[1;36m  Cell \u001b[1;32mIn[92], line 2\u001b[1;36m\u001b[0m\n\u001b[1;33m    \"class\u001b[0m\n\u001b[1;37m    ^\u001b[0m\n\u001b[1;31mSyntaxError\u001b[0m\u001b[1;31m:\u001b[0m unterminated string literal (detected at line 2)\n"
     ]
    }
   ],
   "source": [
    "\"class = \"\"Hyderabad\"\"\"\n",
    "\"class"
   ]
  },
  {
   "cell_type": "code",
   "execution_count": 94,
   "id": "92a7a8b5-bcb9-4792-b7d8-53a531454b1b",
   "metadata": {},
   "outputs": [
    {
     "ename": "SyntaxError",
     "evalue": "unterminated string literal (detected at line 2) (365213071.py, line 2)",
     "output_type": "error",
     "traceback": [
      "\u001b[1;36m  Cell \u001b[1;32mIn[94], line 2\u001b[1;36m\u001b[0m\n\u001b[1;33m    \"for\u001b[0m\n\u001b[1;37m    ^\u001b[0m\n\u001b[1;31mSyntaxError\u001b[0m\u001b[1;31m:\u001b[0m unterminated string literal (detected at line 2)\n"
     ]
    }
   ],
   "source": [
    "\"for = \"\"True\"\"\"\n",
    "\"for"
   ]
  },
  {
   "cell_type": "code",
   "execution_count": 96,
   "id": "3dc2c046-9be1-4460-b2e7-3e12a1ca76c6",
   "metadata": {},
   "outputs": [
    {
     "ename": "SyntaxError",
     "evalue": "unterminated string literal (detected at line 2) (284242380.py, line 2)",
     "output_type": "error",
     "traceback": [
      "\u001b[1;36m  Cell \u001b[1;32mIn[96], line 2\u001b[1;36m\u001b[0m\n\u001b[1;33m    \"@count\u001b[0m\n\u001b[1;37m    ^\u001b[0m\n\u001b[1;31mSyntaxError\u001b[0m\u001b[1;31m:\u001b[0m unterminated string literal (detected at line 2)\n"
     ]
    }
   ],
   "source": [
    "\"@count = \"\"hi\"\"\"\n",
    "\"@count"
   ]
  },
  {
   "cell_type": "code",
   "execution_count": 98,
   "id": "23bd3b90-7cd7-42a8-88aa-7232f4e521db",
   "metadata": {},
   "outputs": [
    {
     "ename": "SyntaxError",
     "evalue": "invalid syntax (1295667169.py, line 1)",
     "output_type": "error",
     "traceback": [
      "\u001b[1;36m  Cell \u001b[1;32mIn[98], line 1\u001b[1;36m\u001b[0m\n\u001b[1;33m    my variable =6.7\u001b[0m\n\u001b[1;37m       ^\u001b[0m\n\u001b[1;31mSyntaxError\u001b[0m\u001b[1;31m:\u001b[0m invalid syntax\n"
     ]
    }
   ],
   "source": [
    "my variable =6.7\n",
    "my variable"
   ]
  },
  {
   "cell_type": "code",
   "execution_count": 100,
   "id": "c518a1db-a1d2-4dd5-8d69-dfc58af23eba",
   "metadata": {},
   "outputs": [
    {
     "ename": "SyntaxError",
     "evalue": "invalid decimal literal (4003994792.py, line 1)",
     "output_type": "error",
     "traceback": [
      "\u001b[1;36m  Cell \u001b[1;32mIn[100], line 1\u001b[1;36m\u001b[0m\n\u001b[1;33m    123abc = 34\u001b[0m\n\u001b[1;37m      ^\u001b[0m\n\u001b[1;31mSyntaxError\u001b[0m\u001b[1;31m:\u001b[0m invalid decimal literal\n"
     ]
    }
   ],
   "source": [
    "123abc = 34\n",
    "123abc"
   ]
  },
  {
   "cell_type": "code",
   "execution_count": 102,
   "id": "4ba47599-9ae5-45e7-886d-4255fc003812",
   "metadata": {},
   "outputs": [
    {
     "ename": "SyntaxError",
     "evalue": "unterminated string literal (detected at line 2) (2614336368.py, line 2)",
     "output_type": "error",
     "traceback": [
      "\u001b[1;36m  Cell \u001b[1;32mIn[102], line 2\u001b[1;36m\u001b[0m\n\u001b[1;33m    \"_total\u001b[0m\n\u001b[1;37m    ^\u001b[0m\n\u001b[1;31mSyntaxError\u001b[0m\u001b[1;31m:\u001b[0m unterminated string literal (detected at line 2)\n"
     ]
    }
   ],
   "source": [
    "\"_total = \"\"Hello\"\"\"\n",
    "\"_total"
   ]
  },
  {
   "cell_type": "markdown",
   "id": "28c74082-6694-4a48-aaf3-5940c79adace",
   "metadata": {},
   "source": [
    "# 3. Explain why Python treats them as invalid Identifiers. Explain?\n"
   ]
  },
  {
   "cell_type": "markdown",
   "id": "37ce92f5-8633-4ba5-a385-d0173c084511",
   "metadata": {},
   "source": [
    "## \"_total = \"\"Hello\"\"\"            \n",
    " Python sees \"_total\" as a string, not a variable  \n",
    "## 123abc = 34                            \n",
    " Identifiers cannot begin with a digit  \n",
    "## my variable =6.7     \n",
    " Spaces are not allowed in variable names  \n",
    "## \"@count = \"\"hi\"\"\" \n",
    " @ is an invalid character, also it’s written as a string  \n",
    "## \"for = \"\"True\"\"\"   \n",
    " for is a Python keyword and cannot be used as a variable and it is quoted  \n",
    "## \"if_condition? = \"\"Innomatics\"\"\"\n",
    " ? is an invalid character, and the name is quoted  \n",
    "## \"class = \"\"Hyderabad\"\"\"     \n",
    " class is a reserved word in Python And it is quoted  \n"
   ]
  },
  {
   "cell_type": "markdown",
   "id": "68ad8676-61c9-4cdd-8c96-f1d41b5b638b",
   "metadata": {},
   "source": [
    "## 4.  Use different identifiers and assign the below values"
   ]
  },
  {
   "cell_type": "code",
   "execution_count": 115,
   "id": "ba1e53af-6bce-4e39-9e3e-2892705e6248",
   "metadata": {},
   "outputs": [
    {
     "data": {
      "text/plain": [
       "10"
      ]
     },
     "execution_count": 115,
     "metadata": {},
     "output_type": "execute_result"
    }
   ],
   "source": [
    "a=10\n",
    "a"
   ]
  },
  {
   "cell_type": "code",
   "execution_count": 117,
   "id": "48d2d6f3-1f95-4c6e-9186-1248000320cd",
   "metadata": {},
   "outputs": [
    {
     "data": {
      "text/plain": [
       "5"
      ]
     },
     "execution_count": 117,
     "metadata": {},
     "output_type": "execute_result"
    }
   ],
   "source": [
    "b=5\n",
    "b"
   ]
  },
  {
   "cell_type": "code",
   "execution_count": 131,
   "id": "46ba699e-71cf-4dcd-be64-371f7b7abe40",
   "metadata": {},
   "outputs": [
    {
     "data": {
      "text/plain": [
       "3.14159"
      ]
     },
     "execution_count": 131,
     "metadata": {},
     "output_type": "execute_result"
    }
   ],
   "source": [
    "c=3.14159\n",
    "c"
   ]
  },
  {
   "cell_type": "code",
   "execution_count": 121,
   "id": "1e5adad7-735b-4146-8c44-b53d5101a513",
   "metadata": {},
   "outputs": [
    {
     "data": {
      "text/plain": [
       "0.12345"
      ]
     },
     "execution_count": 121,
     "metadata": {},
     "output_type": "execute_result"
    }
   ],
   "source": [
    "d=0.12345\n",
    "d"
   ]
  },
  {
   "cell_type": "code",
   "execution_count": 123,
   "id": "73535889-897a-42ab-81ef-26490204b4eb",
   "metadata": {},
   "outputs": [
    {
     "data": {
      "text/plain": [
       "1000"
      ]
     },
     "execution_count": 123,
     "metadata": {},
     "output_type": "execute_result"
    }
   ],
   "source": [
    "e=1000\n",
    "e"
   ]
  },
  {
   "cell_type": "code",
   "execution_count": 125,
   "id": "ec2f2dcf-b13e-4419-a0b4-806b407f137f",
   "metadata": {},
   "outputs": [
    {
     "data": {
      "text/plain": [
       "'Hello, World'"
      ]
     },
     "execution_count": 125,
     "metadata": {},
     "output_type": "execute_result"
    }
   ],
   "source": [
    "f=\"\"\"Hello, World\"\"\"\n",
    "f"
   ]
  },
  {
   "cell_type": "code",
   "execution_count": 135,
   "id": "0e0bdf5f-4279-4441-80f6-b28c60585d5a",
   "metadata": {},
   "outputs": [
    {
     "data": {
      "text/plain": [
       "'Python'"
      ]
     },
     "execution_count": 135,
     "metadata": {},
     "output_type": "execute_result"
    }
   ],
   "source": [
    "g=\"\"\"Python\"\"\"\n",
    "g"
   ]
  },
  {
   "cell_type": "code",
   "execution_count": 141,
   "id": "58ad8ed7-6b85-40a8-87c1-9f7dcde4bba8",
   "metadata": {},
   "outputs": [
    {
     "data": {
      "text/plain": [
       "'I am Learning'"
      ]
     },
     "execution_count": 141,
     "metadata": {},
     "output_type": "execute_result"
    }
   ],
   "source": [
    "h=\"\"\"I am Learning\"\"\"\n",
    "h"
   ]
  },
  {
   "cell_type": "code",
   "execution_count": 143,
   "id": "0de04833-78fa-4434-9809-62b8e96ee9f7",
   "metadata": {},
   "outputs": [
    {
     "data": {
      "text/plain": [
       "'Text Type'"
      ]
     },
     "execution_count": 143,
     "metadata": {},
     "output_type": "execute_result"
    }
   ],
   "source": [
    "i=\"\"\"Text Type\"\"\"\n",
    "i"
   ]
  },
  {
   "cell_type": "code",
   "execution_count": 145,
   "id": "3a319107-7717-4527-8249-24bd5f4092ee",
   "metadata": {},
   "outputs": [
    {
     "data": {
      "text/plain": [
       "'String'"
      ]
     },
     "execution_count": 145,
     "metadata": {},
     "output_type": "execute_result"
    }
   ],
   "source": [
    "j=\"\"\"String\"\"\"\n",
    "j"
   ]
  },
  {
   "cell_type": "code",
   "execution_count": 149,
   "id": "09e0006f-7884-4a99-8bd0-42364d99f456",
   "metadata": {},
   "outputs": [
    {
     "data": {
      "text/plain": [
       "True"
      ]
     },
     "execution_count": 149,
     "metadata": {},
     "output_type": "execute_result"
    }
   ],
   "source": [
    "k= True\n",
    "k"
   ]
  },
  {
   "cell_type": "code",
   "execution_count": 153,
   "id": "aac584cb-02e3-4e9b-8959-40fa96ef050b",
   "metadata": {},
   "outputs": [
    {
     "data": {
      "text/plain": [
       "False"
      ]
     },
     "execution_count": 153,
     "metadata": {},
     "output_type": "execute_result"
    }
   ],
   "source": [
    "l= False\n",
    "l"
   ]
  }
 ],
 "metadata": {
  "kernelspec": {
   "display_name": "Python 3 (ipykernel)",
   "language": "python",
   "name": "python3"
  },
  "language_info": {
   "codemirror_mode": {
    "name": "ipython",
    "version": 3
   },
   "file_extension": ".py",
   "mimetype": "text/x-python",
   "name": "python",
   "nbconvert_exporter": "python",
   "pygments_lexer": "ipython3",
   "version": "3.12.4"
  }
 },
 "nbformat": 4,
 "nbformat_minor": 5
}
