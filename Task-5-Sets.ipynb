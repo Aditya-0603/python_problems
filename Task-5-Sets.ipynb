{
 "cells": [
  {
   "cell_type": "markdown",
   "id": "651a8b32-66c2-4adf-a8bf-c470451ee6c6",
   "metadata": {},
   "source": [
    "## 1. Set Creation Create a Python set containing the first 10 even numbers {2, 4, 6,8,10}. Write a program to display this set.\""
   ]
  },
  {
   "cell_type": "code",
   "execution_count": 8,
   "id": "011a5302-16e2-4d4c-b8c9-03706dfb015d",
   "metadata": {},
   "outputs": [
    {
     "name": "stdout",
     "output_type": "stream",
     "text": [
      "The first 10 even numbers are: {2, 4, 6, 8, 10, 12, 14, 16, 18, 20}\n"
     ]
    }
   ],
   "source": [
    "num = {2,4,6,8,10,12,14,16,18,20}\n",
    "print(\"The first 10 even numbers are:\",num)"
   ]
  },
  {
   "cell_type": "markdown",
   "id": "40c6f905-8e69-454d-8774-e460d879757b",
   "metadata": {},
   "source": [
    "## 2. Set Operations Given two sets, write a Python program to find the union, intersection, and difference of these sets.\"\n"
   ]
  },
  {
   "cell_type": "code",
   "execution_count": 21,
   "id": "507a2f8c-d1aa-4572-9bd3-07996d470d23",
   "metadata": {},
   "outputs": [
    {
     "name": "stdout",
     "output_type": "stream",
     "text": [
      "The Union of set1 and set2 is: {1, 2, 3, 4, 5, 6, 7, 8, 9, 10}\n",
      "The Intersection of set1 and set 2 is: {5, 6}\n",
      "The Difference of set1 and set2 is: {1, 2, 3, 4}\n"
     ]
    }
   ],
   "source": [
    "set1={1,2,3,4,5,6}\n",
    "set2={5,6,7,8,9,10}\n",
    "print(\"The Union of set1 and set2 is:\",set1.union(set2))\n",
    "print(\"The Intersection of set1 and set 2 is:\",set1.intersection(set2))\n",
    "print(\"The Difference of set1 and set2 is:\",set1.difference(set2))"
   ]
  },
  {
   "cell_type": "markdown",
   "id": "36ec4de9-076e-48e0-afd6-61f36b118015",
   "metadata": {},
   "source": [
    "## 3. Set Operations and Methods Write a Python program that takes a set of numbers and performs the following operations:  \n",
    "- Add a new number to the set.  \n",
    "- Remove a number from the set.  \n",
    "- Check if a specific number is in the set.  \n",
    "- Find the size of the set.  \n"
   ]
  },
  {
   "cell_type": "code",
   "execution_count": 84,
   "id": "7e6d032e-fb93-4583-9116-a8a74641c4c6",
   "metadata": {},
   "outputs": [
    {
     "name": "stdout",
     "output_type": "stream",
     "text": [
      "Added new number to the set: {1, 2, 3, 4, 5, 55}\n",
      "Removed number from set: {2, 3, 4, 5, 55}\n",
      "Check number in set: True\n",
      "Size of the set is: 5\n"
     ]
    }
   ],
   "source": [
    "set1={1,2,3,4,5}\n",
    "set1.add(55)\n",
    "print(\"Added new number to the set:\",set1)\n",
    "set1.remove(1)\n",
    "print(\"Removed number from set:\",set1)\n",
    "print(\"Check number in set:\",3 in set1)\n",
    "print(\"Size of the set is:\",len(set1))"
   ]
  },
  {
   "cell_type": "markdown",
   "id": "69a02fb3-a7f3-45e9-8f51-881d035754a9",
   "metadata": {},
   "source": [
    "## 4. Set Operations with Lists Create a Python list with duplicate elements and convert it into a set to remove duplicates. Then, write a program to count how many duplicates were removed.\n"
   ]
  },
  {
   "cell_type": "code",
   "execution_count": 95,
   "id": "0771b9cb-3891-48ed-b73a-dac252b4d24c",
   "metadata": {},
   "outputs": [
    {
     "name": "stdout",
     "output_type": "stream",
     "text": [
      "The List converted to Set: {1, 2, 3, 4, 5, 6}\n",
      "The count of duplicates removed is: 3\n"
     ]
    }
   ],
   "source": [
    "list1=[1,1,2,3,3,4,5,6,6]\n",
    "set1=set(list1)\n",
    "print(\"The List converted to Set:\",set1)\n",
    "print(\"The count of duplicates removed is:\",len(list1)-len(set1))"
   ]
  },
  {
   "cell_type": "markdown",
   "id": "4ce47959-6a31-48b3-b5d1-f25445b8ec3a",
   "metadata": {},
   "source": [
    "## 5.Explain the concept of Sets and their properties in Python. Provide a one-line definition of each set method with examples.\n"
   ]
  },
  {
   "cell_type": "markdown",
   "id": "13a851ea-6e51-45f7-97a5-1dd4b2fc36c4",
   "metadata": {},
   "source": [
    "- Sets are like lists in that you use them for storing a collection of elements. Unlike lists, however, the elements in a set are nonduplicates and are - not placed in any particular order.  \n",
    "- with { } we declare a set  \n",
    "- sets are unordered and unindexed  \n",
    "- set will not allow duplicate elements\n",
    "\n",
    "  **Methods**\n",
    "  1. Add()            -adding elements into a set\n",
    "  2. remove()         -Remove will remove the value from the set if the value exists, if not it generates error  \n",
    "  3. update()         -we can add multiple elements using update\n",
    "  4. sort()           -Arranges the set in sequence\n",
    "  5. discard()        -Discard will discard the value from the set\n",
    "  6. pop()            -Used to delete value from set we can not the predict the which element will be delete because set is unindexed\n",
    "  7. clear()          -It clears the set and leaves empty set  \n",
    "  8. union()          -Combines two set together\n",
    "  9. intersection()   -Shows only the values in set that are same\n",
    "  10. difference()     -It removes the values that are same in another set"
   ]
  },
  {
   "cell_type": "code",
   "execution_count": 7,
   "id": "0fda6cdc-86be-415e-91f3-be55bbfd2eb5",
   "metadata": {},
   "outputs": [
    {
     "name": "stdout",
     "output_type": "stream",
     "text": [
      "The add function: {1, 2, 3, 33}\n",
      "The remove function: {1, 3, 33}\n",
      "The update function: {1, 2, 3, 4, 33, 5, 6, 9}\n",
      "The Sort function: [1, 2, 3, 4, 5, 6, 9, 33]\n",
      "The discard Function: {2, 3, 4, 33, 5, 6, 9}\n",
      "The Pop function: {3, 4, 33, 5, 6, 9}\n",
      "The clear function: set()\n",
      "The Union fuction: {1, 2, 3, 4, 5, 6, 7, 8, 9, 10}\n",
      "The Intersection function: {5, 6}\n",
      "The A difference B: {1, 2, 3, 4}\n",
      "The B difference A: {8, 9, 10, 7}\n"
     ]
    }
   ],
   "source": [
    "#1. Add()           \n",
    "x={1,2,3}\n",
    "x.add(33)\n",
    "print(\"The add function:\",x)\n",
    "\n",
    "#2. remove()\n",
    "x.remove(2)\n",
    "print(\"The remove function:\",x)\n",
    "\n",
    "#3. update()        \n",
    "x.update([2,4,5,9,6])\n",
    "print(\"The update function:\",x)\n",
    "\n",
    "#4. sort()\n",
    "sorted(x)\n",
    "print(\"The Sort function:\",sorted(x))\n",
    "\n",
    "#5. discard()\n",
    "x.discard(1)\n",
    "print(\"The discard Function:\",x)\n",
    "\n",
    "#6. pop()\n",
    "x.pop()\n",
    "print(\"The Pop function:\",x)\n",
    "\n",
    "#7. clear()\n",
    "x.clear()\n",
    "print(\"The clear function:\",x)\n",
    "\n",
    "#8. union, intersection, difference\n",
    "A = {1,2,3,4,5,6}\n",
    "B = {5,6,7,8,9,10}\n",
    "print(\"The Union fuction:\",A.union(B))\n",
    "print(\"The Intersection function:\",A.intersection(B))\n",
    "print(\"The A difference B:\" , A.difference(B))\n",
    "print(\"The B difference A:\" , B.difference(A))"
   ]
  },
  {
   "cell_type": "code",
   "execution_count": null,
   "id": "e541eac0-b0a4-4a96-b08e-502774ff85a4",
   "metadata": {},
   "outputs": [],
   "source": []
  }
 ],
 "metadata": {
  "kernelspec": {
   "display_name": "Python 3 (ipykernel)",
   "language": "python",
   "name": "python3"
  },
  "language_info": {
   "codemirror_mode": {
    "name": "ipython",
    "version": 3
   },
   "file_extension": ".py",
   "mimetype": "text/x-python",
   "name": "python",
   "nbconvert_exporter": "python",
   "pygments_lexer": "ipython3",
   "version": "3.12.4"
  }
 },
 "nbformat": 4,
 "nbformat_minor": 5
}
