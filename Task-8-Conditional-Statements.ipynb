{
 "cells": [
  {
   "cell_type": "markdown",
   "id": "45986f4d-b7ac-4e70-99e1-dd1a87858561",
   "metadata": {},
   "source": [
    "## 1. A company decided to give a bonus of 5% of their salary to employees if his/her years of service is more than 5 years.  \n",
    "- Ask the user for their salary and years of service and print the net amount of that person."
   ]
  },
  {
   "cell_type": "code",
   "execution_count": 4,
   "id": "3fdc38c5-8600-4bd3-b74a-769a6d2d2681",
   "metadata": {},
   "outputs": [
    {
     "name": "stdin",
     "output_type": "stream",
     "text": [
      "Enter your current salary:  2000\n",
      "Enter your years of service:  6\n"
     ]
    },
    {
     "name": "stdout",
     "output_type": "stream",
     "text": [
      "You are eligible for a 5% bonus.\n",
      "Your net amount after bonus is: 2100.0\n"
     ]
    }
   ],
   "source": [
    "salary = float(input(\"Enter your current salary: \"))\n",
    "years_of_service = int(input(\"Enter your years of service: \"))\n",
    "\n",
    "if years_of_service > 5:\n",
    "    bonus = 0.05 * salary\n",
    "    net_amount = salary + bonus\n",
    "    print(\"You are eligible for a 5% bonus.\")\n",
    "    print(\"Your net amount after bonus is:\", net_amount)\n",
    "else:\n",
    "    print(\"You are not eligible for a bonus.\")\n",
    "    print(\"Your net amount is:\", salary)\n"
   ]
  },
  {
   "cell_type": "markdown",
   "id": "55d8a871-e366-40b7-84a3-fec06fc3d6ac",
   "metadata": {},
   "source": [
    "## 2. A school has following rules for grading system:  \n",
    "a. Below 25 - F grade  \n",
    "b. 25 to 45 - E    \n",
    "c. 45 to 50 - D   \n",
    "d. 50 to 60 - C  \n",
    "e. 60 to 80 - B    \n",
    "f. Above 80 - A  \n",
    "- Ask the user to enter marks and print the corresponding grade."
   ]
  },
  {
   "cell_type": "code",
   "execution_count": 18,
   "id": "f0a63761-9e54-498d-9234-55de8469bdfb",
   "metadata": {},
   "outputs": [
    {
     "name": "stdin",
     "output_type": "stream",
     "text": [
      "Enter your marks: 45\n"
     ]
    },
    {
     "name": "stdout",
     "output_type": "stream",
     "text": [
      "D grade\n"
     ]
    }
   ],
   "source": [
    "marks=int(input(\"Enter your marks:\"))\n",
    "if marks<25:\n",
    "    print(\"F grade\")\n",
    "elif marks<45:\n",
    "    print(\"E grade\")\n",
    "elif marks<50:\n",
    "    print(\"D grade\")\n",
    "elif marks<60:\n",
    "    print(\"C grade\")\n",
    "elif marks<80:\n",
    "    print(\"B grade\")\n",
    "elif marks>80:\n",
    "    print(\"A grade\")\n",
    "\n",
    "\n",
    "\n",
    "    "
   ]
  },
  {
   "cell_type": "markdown",
   "id": "8b144b80-5d18-41fb-bcaa-8a6dc55bad70",
   "metadata": {},
   "source": [
    "## 2. Create a program that asks the user for their age and nationality. Depending on their age and nationality, display a different message using nested if statements.   \n",
    "For example, if they are under 18 and from the USA, display \"You are a minor from the USA.\""
   ]
  },
  {
   "cell_type": "code",
   "execution_count": 56,
   "id": "e958cefa-d57b-4be9-93d0-1db292f641aa",
   "metadata": {},
   "outputs": [
    {
     "name": "stdin",
     "output_type": "stream",
     "text": [
      "Enter your age:  50\n",
      "Enter your nationality:  india\n"
     ]
    },
    {
     "name": "stdout",
     "output_type": "stream",
     "text": [
      "You are an adult from India.\n"
     ]
    }
   ],
   "source": [
    "age = int(input(\"Enter your age: \"))\n",
    "nationality = input(\"Enter your nationality: \")\n",
    "\n",
    "if nationality == \"usa\":\n",
    "    if age < 18:\n",
    "        print(\"You are a minor from USA.\")\n",
    "    else:\n",
    "        print(\"You are an adult from USA.\")\n",
    "elif nationality == \"india\":\n",
    "    if age < 18:\n",
    "        print(\"You are a minor from India.\")\n",
    "    else:\n",
    "        print(\"You are an adult from India.\")\n",
    "elif nationality == \"england\":\n",
    "    if age < 18:\n",
    "        print(\"You are a minor from England.\")\n",
    "    else:\n",
    "        print(\"You are an adult from England.\")\n",
    "else:\n",
    "    if age < 18:\n",
    "        print(\"You are a minor from another country.\")\n",
    "    else:\n",
    "        print(\"You are an adult from another country.\")\n"
   ]
  },
  {
   "cell_type": "code",
   "execution_count": null,
   "id": "6570a4ca-046b-4661-a8e6-4140322cf757",
   "metadata": {},
   "outputs": [],
   "source": []
  },
  {
   "cell_type": "code",
   "execution_count": null,
   "id": "e1b0e4e2-0714-4291-af43-9e57b7c533f8",
   "metadata": {},
   "outputs": [],
   "source": []
  },
  {
   "cell_type": "markdown",
   "id": "62a65b20-5e51-4c86-91b5-d3186a18828b",
   "metadata": {},
   "source": [
    "## 4. Using following list of cities per country,\n",
    "\n",
    "india = [\"mumbai\", \"banglore\", \"chennai\", \"delhi\"]\n",
    "\n",
    "pakistan = [\"lahore\",\"karachi\",\"islamabad\"]\n",
    "\n",
    "bangladesh = [\"dhaka\", \"khulna\", \"rangpur\"]"
   ]
  },
  {
   "cell_type": "code",
   "execution_count": 59,
   "id": "c7dd0945-b430-4b20-9f07-3e4ede40b87e",
   "metadata": {},
   "outputs": [],
   "source": [
    "india = [\"mumbai\", \"banglore\", \"chennai\", \"delhi\"]\n",
    "\n",
    "pakistan = [\"lahore\",\"karachi\",\"islamabad\"]\n",
    "\n",
    "bangladesh = [\"dhaka\", \"khulna\", \"rangpur\"]"
   ]
  },
  {
   "cell_type": "markdown",
   "id": "672f8f43-46c3-4e69-a3ea-fdff91c775ee",
   "metadata": {},
   "source": [
    "## 5. Write a program that asks user to enter a city name and it should tell which country the city belongs to"
   ]
  },
  {
   "cell_type": "code",
   "execution_count": 72,
   "id": "6bacdfa3-ec1e-4862-bcd8-68cd1e9c0f94",
   "metadata": {},
   "outputs": [
    {
     "name": "stdin",
     "output_type": "stream",
     "text": [
      "Enter a city name:  mumbai\n"
     ]
    },
    {
     "name": "stdout",
     "output_type": "stream",
     "text": [
      "mumbai is a city in India.\n"
     ]
    }
   ],
   "source": [
    "india = [\"mumbai\", \"banglore\", \"chennai\", \"delhi\"]\n",
    "pakistan = [\"lahore\", \"karachi\", \"islamabad\"]\n",
    "bangladesh = [\"dhaka\", \"khulna\", \"rangpur\"]\n",
    "\n",
    "city = input(\"Enter a city name: \")\n",
    "\n",
    "if city in india:\n",
    "    print(f\"{city} is a city in India.\")\n",
    "elif city in pakistan:\n",
    "    print(f\"{city} is a city in Pakistan.\")\n",
    "elif city in bangladesh:\n",
    "    print(f\"{city} is a city in Bangladesh.\")\n",
    "else:\n",
    "    print(\"City not found in our database.\")\n"
   ]
  },
  {
   "cell_type": "markdown",
   "id": "5d929822-1bad-4929-aa59-79aa8dc47469",
   "metadata": {},
   "source": [
    "## 6. Write a program that asks the user to enter two cities and it tells you if they both are in the same country or not. For example if I enter mumbai and chennai, it will print \"Both cities are in India\" , but if I enter mumbai and dhaka it should print \"They don't belong to the same country\"."
   ]
  },
  {
   "cell_type": "code",
   "execution_count": 85,
   "id": "c8aa7221-1ce0-4aed-94f2-37874762d0e3",
   "metadata": {},
   "outputs": [
    {
     "name": "stdin",
     "output_type": "stream",
     "text": [
      "Enter a city name:  dhaka\n",
      "Enter a city name:  khulna\n"
     ]
    },
    {
     "name": "stdout",
     "output_type": "stream",
     "text": [
      "Both dhaka and khulna is a city in Bangladesh.\n"
     ]
    }
   ],
   "source": [
    "india = [\"mumbai\", \"banglore\", \"chennai\", \"delhi\"]\n",
    "pakistan = [\"lahore\", \"karachi\", \"islamabad\"]\n",
    "bangladesh = [\"dhaka\", \"khulna\", \"rangpur\"]\n",
    "\n",
    "city1 = input(\"Enter a city name: \")\n",
    "city2 = input(\"Enter a city name: \")\n",
    "\n",
    "if city1 and city2 in india:\n",
    "    print(f\"Both {city1} and {city2} is a city in India.\")\n",
    "elif city1 and city2 in pakistan:\n",
    "    print(f\"Both {city1} and {city2} is a city in Pakistan.\")\n",
    "elif city1 and city2 in bangladesh:\n",
    "    print(f\"Both {city1} and {city2} is a city in Bangladesh.\")\n",
    "else:\n",
    "    print(f\"Both {city1} and {city2} City dont belong to same country.\")\n"
   ]
  },
  {
   "cell_type": "markdown",
   "id": "0e3faa38-d2f8-4ade-8fa6-91927b60db07",
   "metadata": {},
   "source": [
    "## 7. Write a program which will accept a word and a number from the user. Check if the word starts with a vowel and the number is even and write appropriate conditions accordingly (Case sensitivity should not matter).\n",
    "\n",
    "Example :\n",
    "\n",
    "Innoamtics, 6 --- both the conditions are satisfied\n",
    "\n",
    "innomatics, 5--- at least one condition is satisfied\n",
    "\n",
    "Ramya, 6--- at least one condition is satisfied"
   ]
  },
  {
   "cell_type": "code",
   "execution_count": 124,
   "id": "ccccd6f5-8d1b-42cc-9770-cdf6470db2b3",
   "metadata": {},
   "outputs": [
    {
     "name": "stdin",
     "output_type": "stream",
     "text": [
      "Enter a word:  uganda\n",
      "Enter a number:  4\n"
     ]
    },
    {
     "name": "stdout",
     "output_type": "stream",
     "text": [
      "Both conditions are satisfied.\n"
     ]
    }
   ],
   "source": [
    "word = input(\"Enter a word: \")\n",
    "number = int(input(\"Enter a number: \"))\n",
    "\n",
    "starts_with_vowel = word[0] in \"aeiou\"\n",
    "is_even = number % 2 == 0\n",
    "\n",
    "if starts_with_vowel and is_even:\n",
    "    print(\"Both conditions are satisfied.\")\n",
    "elif starts_with_vowel or is_even:\n",
    "    print(\"At least one condition is satisfied.\")\n",
    "else:\n",
    "    print(\"No condition is satisfied.\")\n"
   ]
  },
  {
   "cell_type": "markdown",
   "id": "f93bacfd-d91b-4e89-97f1-df9aa098f03a",
   "metadata": {},
   "source": []
  }
 ],
 "metadata": {
  "kernelspec": {
   "display_name": "Python 3 (ipykernel)",
   "language": "python",
   "name": "python3"
  },
  "language_info": {
   "codemirror_mode": {
    "name": "ipython",
    "version": 3
   },
   "file_extension": ".py",
   "mimetype": "text/x-python",
   "name": "python",
   "nbconvert_exporter": "python",
   "pygments_lexer": "ipython3",
   "version": "3.12.4"
  }
 },
 "nbformat": 4,
 "nbformat_minor": 5
}
