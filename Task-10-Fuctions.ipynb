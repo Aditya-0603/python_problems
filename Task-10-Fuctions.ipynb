{
 "cells": [
  {
   "cell_type": "markdown",
   "id": "36286c0c-15ff-401a-90b5-4c99f4e22de9",
   "metadata": {},
   "source": [
    "# 1. Write a function to get the maximum of 3 numbers."
   ]
  },
  {
   "cell_type": "code",
   "execution_count": 79,
   "id": "ed5a839a-e893-4ac5-92ab-b359c3f20a5b",
   "metadata": {},
   "outputs": [
    {
     "name": "stdout",
     "output_type": "stream",
     "text": [
      "The maximum of 3 numbers:\n"
     ]
    },
    {
     "data": {
      "text/plain": [
       "15"
      ]
     },
     "execution_count": 79,
     "metadata": {},
     "output_type": "execute_result"
    }
   ],
   "source": [
    "def maximum_no(a, b, c):\n",
    "    return max(a, b, c)\n",
    "print(\"The maximum of 3 numbers:\")\n",
    "maximum_no(5,10,15)"
   ]
  },
  {
   "cell_type": "markdown",
   "id": "35611713-29b4-4b31-a711-8001f7f275f6",
   "metadata": {},
   "source": [
    "# 2. Write a function to check if the given number if even or not\n",
    "Example:   \n",
    "           is_even(10) , then o/p: even   \n",
    "           is_even(23), then o/p: odd  "
   ]
  },
  {
   "cell_type": "code",
   "execution_count": 97,
   "id": "8fa0468c-cba2-4363-9d0b-4bbe80a6a0e9",
   "metadata": {},
   "outputs": [
    {
     "name": "stdout",
     "output_type": "stream",
     "text": [
      "even 10\n",
      "odd 13\n"
     ]
    }
   ],
   "source": [
    "def is_even(x):\n",
    "    if x%2==0:\n",
    "        print(\"even\",x)\n",
    "    else:\n",
    "        print(\"odd\",x)\n",
    "is_even(10)\n",
    "is_even(13)"
   ]
  },
  {
   "cell_type": "markdown",
   "id": "29baf31a-ba44-42b3-90b0-3c10078e81af",
   "metadata": {},
   "source": [
    "# 3. Write a program to get the sum of all the values in given list,\n",
    " Example:   \n",
    "       my_sum([1,2,3,4,5]), then o/p: 15   \n",
    "       my_sum([10,11,12]), then o/p: 33  "
   ]
  },
  {
   "cell_type": "code",
   "execution_count": 100,
   "id": "652199e0-811c-4c16-ac65-4df07d3af548",
   "metadata": {},
   "outputs": [
    {
     "name": "stdout",
     "output_type": "stream",
     "text": [
      "15\n",
      "33\n"
     ]
    }
   ],
   "source": [
    "def my_sum(x):\n",
    "    sum=0\n",
    "    for i in x:\n",
    "        sum+=i\n",
    "    print(sum)\n",
    "my_sum([1,2,3,4,5])\n",
    "my_sum([10,11,12])"
   ]
  },
  {
   "cell_type": "markdown",
   "id": "2295602f-84a8-44ec-91e8-cf004060205a",
   "metadata": {},
   "source": [
    "# 4. Construct your own function my_range() which acts as range() to print numbers in forward direction (step is positive) and backward direction(step is negative) with given start,stop and step as parameters.  \n",
    "eg: my_range(1,10,1), then o/p= 1,2,3,4,5,6,7,8,9   \n",
    "\n",
    "my_range(1,10,2), then o/p= 1,3,5,7,9   \n",
    "\n",
    "my_range(10,1,-1), then o/p = 10,9,8,7,6,5,4,3,2   \n",
    "\n",
    "my_range(10,1,-2), then o/p = 10,8,6,4,2  "
   ]
  },
  {
   "cell_type": "code",
   "execution_count": 234,
   "id": "f683232d-d42b-4811-8e07-1cda0f343e33",
   "metadata": {},
   "outputs": [
    {
     "name": "stdout",
     "output_type": "stream",
     "text": [
      "1,2,3,4,5,6,7,8,9,\n",
      "\n",
      "1,3,5,7,9,\n",
      "\n",
      "10,9,8,7,6,5,4,3,2,\n",
      "\n",
      "10,8,6,4,2,\n",
      "\n"
     ]
    }
   ],
   "source": [
    "def myrange(x,y,z):\n",
    "    for i in range(x,y,z):\n",
    "        print(i,end=\",\") \n",
    "    print(\"\\n\")\n",
    "myrange(1,10,1)\n",
    "myrange(1,10,2)\n",
    "myrange(10,1,-1)\n",
    "myrange(10,1,-2)\n"
   ]
  },
  {
   "cell_type": "markdown",
   "id": "0d951ee9-77cf-4429-80f5-261c517a5bf9",
   "metadata": {},
   "source": [
    "# 5. Multiply numbers with given start and stop (using loops)  \n",
    "        Example: start=1, stop= 5, then o/p: 120     \n",
    "        start=3, stop=5, then o/p: 60  "
   ]
  },
  {
   "cell_type": "code",
   "execution_count": 262,
   "id": "afde2bb3-f1db-4fc4-95c0-151c538913f7",
   "metadata": {},
   "outputs": [
    {
     "name": "stdout",
     "output_type": "stream",
     "text": [
      "120\n",
      "60\n"
     ]
    }
   ],
   "source": [
    "def mult(x,y):\n",
    "    num=1\n",
    "    for i in range(x,y+1):\n",
    "        num*=i\n",
    "    print(num)\n",
    "mult(1,5)\n",
    "mult(3,5)"
   ]
  },
  {
   "cell_type": "markdown",
   "id": "76ab0f0d-b1b0-4003-a34d-02c3e4837043",
   "metadata": {},
   "source": [
    "# 6. Construct a function for fibonacci series(fib()) using\n",
    "a.loops   \n",
    "b.recursion   \n",
    "Expected o/p :   \n",
    "fib(5), then o/p= 0 1 1 2 3   \n",
    "fib(7), then o/p= 0 1 1 2 3 5 8"
   ]
  },
  {
   "cell_type": "code",
   "execution_count": 297,
   "id": "54f40764-4263-482b-a0c8-633537a2a57e",
   "metadata": {},
   "outputs": [
    {
     "name": "stdout",
     "output_type": "stream",
     "text": [
      "11235"
     ]
    }
   ],
   "source": [
    "def fib(x):\n",
    "    if x<=1:\n",
    "        return 1\n",
    "    else:\n",
    "        return fib(x-1)+fib(x-2)\n",
    "for i in range(5):\n",
    "    print(fib(i),end=\"\")\n",
    "    "
   ]
  },
  {
   "cell_type": "markdown",
   "id": "682a3ab5-c492-4c19-84d7-c58ff544e64a",
   "metadata": {},
   "source": [
    "# 7. Create a Factorial with loops."
   ]
  },
  {
   "cell_type": "code",
   "execution_count": 1,
   "id": "f3b2a73b-7289-4b61-a5fe-142030acea46",
   "metadata": {},
   "outputs": [
    {
     "name": "stdin",
     "output_type": "stream",
     "text": [
      "Enter a number:  3\n"
     ]
    },
    {
     "name": "stdout",
     "output_type": "stream",
     "text": [
      "Factorial of 3 is 6\n"
     ]
    }
   ],
   "source": [
    "num = int(input(\"Enter a number: \"))\n",
    "fact = 1\n",
    "for i in range(1, num + 1):\n",
    "    fact *= i\n",
    "    \n",
    "print(\"Factorial of\", num, \"is\", fact)"
   ]
  },
  {
   "cell_type": "markdown",
   "id": "f94b33cc-cb5e-4b6c-b6e5-35d780140f50",
   "metadata": {},
   "source": [
    "# 8. Design star pattern"
   ]
  },
  {
   "cell_type": "code",
   "execution_count": 320,
   "id": "1dfe5d94-d5ea-4096-b814-a2db93cfbaad",
   "metadata": {},
   "outputs": [
    {
     "name": "stdout",
     "output_type": "stream",
     "text": [
      "\n",
      "*\n",
      "**\n",
      "***\n",
      "****\n",
      "*****\n"
     ]
    }
   ],
   "source": [
    "def star(x):\n",
    "    for i in range(x):\n",
    "        print(\"*\"*i)\n",
    "star(6)"
   ]
  },
  {
   "cell_type": "markdown",
   "id": "19d61bad-2afc-4839-abd1-cf6ed8bbccf2",
   "metadata": {},
   "source": [
    "# 9. Design box of number"
   ]
  },
  {
   "cell_type": "code",
   "execution_count": 7,
   "id": "f2d918ac-9f15-4352-b449-917897870434",
   "metadata": {},
   "outputs": [
    {
     "name": "stdout",
     "output_type": "stream",
     "text": [
      "5 5 5 5 5 \n",
      "4 4 4 4 4 \n",
      "3 3 3 3 3 \n",
      "2 2 2 2 2 \n",
      "1 1 1 1 1 \n"
     ]
    }
   ],
   "source": [
    "for i in range(5, 0, -1):         \n",
    "    for j in range(5):           \n",
    "        print(i, end=' ')        \n",
    "    print()                      "
   ]
  },
  {
   "cell_type": "code",
   "execution_count": null,
   "id": "ffa8630d-8807-4a86-b845-826775de0a10",
   "metadata": {},
   "outputs": [],
   "source": []
  }
 ],
 "metadata": {
  "kernelspec": {
   "display_name": "Python 3 (ipykernel)",
   "language": "python",
   "name": "python3"
  },
  "language_info": {
   "codemirror_mode": {
    "name": "ipython",
    "version": 3
   },
   "file_extension": ".py",
   "mimetype": "text/x-python",
   "name": "python",
   "nbconvert_exporter": "python",
   "pygments_lexer": "ipython3",
   "version": "3.12.4"
  }
 },
 "nbformat": 4,
 "nbformat_minor": 5
}
