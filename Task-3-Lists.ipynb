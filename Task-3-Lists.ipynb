{
 "cells": [
  {
   "cell_type": "markdown",
   "id": "e42fcaf5-1c91-4aa3-a9a9-62f5f0b8b1e3",
   "metadata": {},
   "source": [
    "## 1.Define List, properties and its methods and try to write an example for each of the methods.\n"
   ]
  },
  {
   "cell_type": "markdown",
   "id": "ecf2af70-b347-43f3-8ad8-1ad32b054234",
   "metadata": {},
   "source": [
    "-A list is a built-in Python data structure used to store multiple items in a single variable. Lists are ordered, mutable (changeable), and can contain elements of different data types.  \n",
    "**Properties**  \n",
    "-Ordered – Elements have a definite order (indexed from 0).  \n",
    "-Mutable – You can change, add, or remove elements.  \n",
    "-Heterogeneous – Can contain different data types.  \n",
    "-Indexed – You can access items using their index.  \n",
    "-Allows Duplicates – Elements can be repeated.  \n",
    "**Methods**  \n",
    "-append()\t-Adds an element at the end  \n",
    "-extend()   -is used to extend our current list with another list\n",
    "-remove()\t-Removes the first matching element  \n",
    "-pop()\t    -Removes an element at the given index (default last)  \n",
    "-clear()\t    -Removes all elements  \n",
    "-index()\t    -Returns the index of first matching value  \n",
    "-count()\t    -Returns the count of a value\t  \n",
    "-sort()\t    -Sorts the list in ascending order  \n",
    "-reverse()\t-Reverses the list\t  \n",
    "-copy()\t    -Returns a copy of the list    \t\n",
    "-deepcopy() - it Deep copys the list"
   ]
  },
  {
   "cell_type": "markdown",
   "id": "82b5b4fc-49c4-4a06-a8a1-c6a6dea2a22e",
   "metadata": {},
   "source": [
    "  **Example**  "
   ]
  },
  {
   "cell_type": "code",
   "execution_count": 83,
   "id": "5a2f00ca-e63d-4d5d-a953-41485b0876f1",
   "metadata": {},
   "outputs": [
    {
     "data": {
      "text/plain": [
       "['apple', 'banna', 'cherry', 'orange']"
      ]
     },
     "execution_count": 83,
     "metadata": {},
     "output_type": "execute_result"
    }
   ],
   "source": [
    "fruit=['apple','banna','cherry']\n",
    "fruit.append('orange')\n",
    "fruit"
   ]
  },
  {
   "cell_type": "code",
   "execution_count": 85,
   "id": "25885169-410b-4ab2-867a-114774711425",
   "metadata": {},
   "outputs": [
    {
     "data": {
      "text/plain": [
       "['apple', 'banna', 'cherry', 'grapes', 'kiwi']"
      ]
     },
     "execution_count": 85,
     "metadata": {},
     "output_type": "execute_result"
    }
   ],
   "source": [
    "fruit=['apple','banna','cherry']\n",
    "fruit.extend(['grapes','kiwi'])\n",
    "fruit"
   ]
  },
  {
   "cell_type": "code",
   "execution_count": 87,
   "id": "2a0423ba-90ee-43b8-bb1a-09bf7e658a73",
   "metadata": {},
   "outputs": [
    {
     "data": {
      "text/plain": [
       "['apple', 'banna']"
      ]
     },
     "execution_count": 87,
     "metadata": {},
     "output_type": "execute_result"
    }
   ],
   "source": [
    "fruit=['apple','banna','cherry']\n",
    "fruit.pop()\n",
    "fruit"
   ]
  },
  {
   "cell_type": "code",
   "execution_count": 89,
   "id": "73d6d5e7-e544-4a54-91a2-992d1fad098f",
   "metadata": {},
   "outputs": [
    {
     "data": {
      "text/plain": [
       "['banna', 'cherry']"
      ]
     },
     "execution_count": 89,
     "metadata": {},
     "output_type": "execute_result"
    }
   ],
   "source": [
    "fruit=['apple','banna','cherry']\n",
    "fruit.remove('apple')\n",
    "fruit"
   ]
  },
  {
   "cell_type": "code",
   "execution_count": 91,
   "id": "f7ef7ed3-71eb-409e-b215-58815bdd223e",
   "metadata": {},
   "outputs": [
    {
     "name": "stdout",
     "output_type": "stream",
     "text": [
      "count of 'mango': 2\n"
     ]
    }
   ],
   "source": [
    "fruits=['apple','banna','cherry','mango','mango']\n",
    "num_of_mango = fruits.count('mango')\n",
    "print(\"count of 'mango':\", num_of_mango) "
   ]
  },
  {
   "cell_type": "code",
   "execution_count": 93,
   "id": "ce7af059-2bd9-4cb7-94b4-418b6818da3f",
   "metadata": {},
   "outputs": [
    {
     "name": "stdout",
     "output_type": "stream",
     "text": [
      "sort: [1, 2, 5, 9]\n"
     ]
    }
   ],
   "source": [
    "numbers = [5, 2, 9, 1]\n",
    "numbers.sort()\n",
    "print(\"sort:\", numbers)"
   ]
  },
  {
   "cell_type": "code",
   "execution_count": 95,
   "id": "168e51f7-a2df-4ac7-8424-b5c92747fa44",
   "metadata": {},
   "outputs": [
    {
     "data": {
      "text/plain": [
       "1"
      ]
     },
     "execution_count": 95,
     "metadata": {},
     "output_type": "execute_result"
    }
   ],
   "source": [
    "numbers= [5, 2, 9, 1]\n",
    "numbers.index(2)"
   ]
  },
  {
   "cell_type": "code",
   "execution_count": 97,
   "id": "a077185f-4c10-4f01-b5e0-265d3d4b0525",
   "metadata": {},
   "outputs": [
    {
     "data": {
      "text/plain": [
       "[5, 10, 2, 9, 1]"
      ]
     },
     "execution_count": 97,
     "metadata": {},
     "output_type": "execute_result"
    }
   ],
   "source": [
    "numbers.insert(1,10)\n",
    "numbers"
   ]
  },
  {
   "cell_type": "code",
   "execution_count": 99,
   "id": "d92d7437-c7c9-4aa1-bcbb-273764d609f2",
   "metadata": {},
   "outputs": [
    {
     "data": {
      "text/plain": [
       "[1, 9, 2, 10, 5]"
      ]
     },
     "execution_count": 99,
     "metadata": {},
     "output_type": "execute_result"
    }
   ],
   "source": [
    "numbers.reverse()\n",
    "numbers"
   ]
  },
  {
   "cell_type": "code",
   "execution_count": 101,
   "id": "3d4c2ad4-e253-4d5f-8f06-6bc7d59525de",
   "metadata": {},
   "outputs": [
    {
     "data": {
      "text/plain": [
       "[]"
      ]
     },
     "execution_count": 101,
     "metadata": {},
     "output_type": "execute_result"
    }
   ],
   "source": [
    "numbers.clear()\n",
    "numbers"
   ]
  },
  {
   "cell_type": "code",
   "execution_count": 103,
   "id": "5013923e-b88e-4888-b659-5ec0a8c48380",
   "metadata": {},
   "outputs": [
    {
     "data": {
      "text/plain": [
       "[1, 2, 3, 4, 5]"
      ]
     },
     "execution_count": 103,
     "metadata": {},
     "output_type": "execute_result"
    }
   ],
   "source": [
    "l1=[1,2,3,4,5]\n",
    "l2=l1.copy()\n",
    "l2"
   ]
  },
  {
   "cell_type": "code",
   "execution_count": 105,
   "id": "bb663dad-8ec1-465a-b7f6-cf635263e577",
   "metadata": {},
   "outputs": [
    {
     "data": {
      "text/plain": [
       "[1, 2, 3, 4, 5, [55, 55]]"
      ]
     },
     "execution_count": 105,
     "metadata": {},
     "output_type": "execute_result"
    }
   ],
   "source": [
    "import copy\n",
    "l1=[1,2,3,4,5,[23,55]]\n",
    "l2=copy.deepcopy(l1)\n",
    "l2[5][0]=55\n",
    "l2"
   ]
  },
  {
   "cell_type": "markdown",
   "id": "b47ff256-40ec-4ce0-9c0a-8d49b88415c3",
   "metadata": {},
   "source": [
    "# 2.Explain list and its properties."
   ]
  },
  {
   "cell_type": "markdown",
   "id": "a4be68fc-30f5-4f47-87a4-6ceb358a595d",
   "metadata": {},
   "source": [
    "-A list is a built-in Python data structure used to store multiple items in a single variable. Lists are ordered, mutable (changeable), and can contain elements of different data types.  \n",
    "**Properties**    \n",
    "1.Ordered – Elements have a definite order (indexed from 0).  \n",
    "2.Mutable – You can change, add, or remove elements.  \n",
    "3.Heterogeneous – Can contain different data types.  \n",
    "4.Indexed – You can access items using their index.  \n",
    "5.Allows Duplicates – Elements can be repeated.  "
   ]
  },
  {
   "cell_type": "markdown",
   "id": "30ba6938-c904-4708-9a5c-29dd1988a144",
   "metadata": {},
   "source": [
    "# 3. Create an empty list called number, and append number 1, 2 and 3 to the list\n",
    "- modify the element at index 1 to be 4  \n",
    "- print updated listt"
   ]
  },
  {
   "cell_type": "code",
   "execution_count": 110,
   "id": "c761122d-86c2-4b8a-9b33-7602472547c7",
   "metadata": {},
   "outputs": [
    {
     "name": "stdout",
     "output_type": "stream",
     "text": [
      "list before modify [1, 2, 3]\n",
      "list after modification [1, 4, 2, 3]\n"
     ]
    }
   ],
   "source": [
    "num = []\n",
    "num.append(1)\n",
    "num.append(2)\n",
    "num.append(3)\n",
    "print(\"list before modify\",num)\n",
    "num.insert(1,4)\n",
    "print(\"list after modification\",num)"
   ]
  },
  {
   "cell_type": "markdown",
   "id": "ae6a6a2c-aec5-45a0-89cd-2a75eda57542",
   "metadata": {},
   "source": [
    "# 4.Create a list called fruits with elements 'apple', 'banana', 'orange', 'mango' and 'kiwi'.  \n",
    "- create a new list by slicing only the citrus fruits only('orange'  and 'mango')  \n",
    "- create a new list by slicing only the tropical fruits only('banana'  and 'Kiwi')  \n",
    "- concatinate the citrus and tropical fruits list and print the updated list   "
   ]
  },
  {
   "cell_type": "code",
   "execution_count": 254,
   "id": "addb71cb-0eaf-47bc-86e6-2fcdc25768bc",
   "metadata": {},
   "outputs": [
    {
     "data": {
      "text/plain": [
       "['apple', 'banana', 'orange', 'mango', 'kiwi']"
      ]
     },
     "execution_count": 254,
     "metadata": {},
     "output_type": "execute_result"
    }
   ],
   "source": [
    "fruits=['apple','banana','orange','mango','kiwi']\n",
    "fruits"
   ]
  },
  {
   "cell_type": "code",
   "execution_count": 260,
   "id": "ab8c6d7f-1822-4235-9940-80bd5397e52f",
   "metadata": {},
   "outputs": [
    {
     "name": "stdout",
     "output_type": "stream",
     "text": [
      "['orange', 'kiwi']\n"
     ]
    }
   ],
   "source": [
    "citrus_fruits=fruits[2:5:2]\n",
    "print(citrus_fruits)"
   ]
  },
  {
   "cell_type": "code",
   "execution_count": 262,
   "id": "a1a7023c-6ea2-4b96-a3c4-e58be616c1f3",
   "metadata": {},
   "outputs": [
    {
     "name": "stdout",
     "output_type": "stream",
     "text": [
      "['banana', 'kiwi']\n"
     ]
    }
   ],
   "source": [
    "tropical_fruits=fruits[1:5:3]\n",
    "print(tropical_fruits)"
   ]
  },
  {
   "cell_type": "code",
   "execution_count": 143,
   "id": "4c21afd5-c29d-429e-a43a-b65e0d0bb1a6",
   "metadata": {},
   "outputs": [
    {
     "name": "stdout",
     "output_type": "stream",
     "text": [
      "['orange', 'mango', 'banana', 'kiwi']\n"
     ]
    }
   ],
   "source": [
    " print(citrus_fruits+tropical_fruits)"
   ]
  },
  {
   "cell_type": "markdown",
   "id": "4bad444d-57cf-463a-a743-a03bf5a7e8df",
   "metadata": {},
   "source": [
    "# 5.Create a list called color with repeated elements 'red','blue','red','green','red'.\n",
    "- print the number of occurrences of 'red' in list\n",
    "- remove all the occurences of red from the list\n",
    "- print the updated list"
   ]
  },
  {
   "cell_type": "code",
   "execution_count": 245,
   "id": "7a39dc3b-7e00-48e2-97dc-e2caef8c36b6",
   "metadata": {},
   "outputs": [
    {
     "data": {
      "text/plain": [
       "['red', 'blue', 'red', 'green', 'red']"
      ]
     },
     "execution_count": 245,
     "metadata": {},
     "output_type": "execute_result"
    }
   ],
   "source": [
    "color=['red','blue','red','green','red']\n",
    "color"
   ]
  },
  {
   "cell_type": "code",
   "execution_count": 247,
   "id": "6ed88bed-9de3-453e-b64c-a69e4463eb07",
   "metadata": {},
   "outputs": [
    {
     "data": {
      "text/plain": [
       "3"
      ]
     },
     "execution_count": 247,
     "metadata": {},
     "output_type": "execute_result"
    }
   ],
   "source": [
    "color.count('red')"
   ]
  },
  {
   "cell_type": "code",
   "execution_count": 249,
   "id": "edf27d02-a33b-403e-8e5e-519720ad4fb5",
   "metadata": {},
   "outputs": [
    {
     "data": {
      "text/plain": [
       "['blue', 'red', 'green', 'red']"
      ]
     },
     "execution_count": 249,
     "metadata": {},
     "output_type": "execute_result"
    }
   ],
   "source": [
    "color.remove('red')\n",
    "color"
   ]
  },
  {
   "cell_type": "code",
   "execution_count": 251,
   "id": "642fe59e-e19d-4b96-be6c-0723cbec3e24",
   "metadata": {},
   "outputs": [
    {
     "name": "stdout",
     "output_type": "stream",
     "text": [
      "The updated list: ['blue', 'red', 'green', 'red']\n"
     ]
    }
   ],
   "source": [
    "print(\"The updated list:\",color)"
   ]
  },
  {
   "cell_type": "markdown",
   "id": "dc96d56d-b954-40f7-a442-b494cc91b0e7",
   "metadata": {},
   "source": [
    "# 6.Create a list called groceries with initial items:\"bread\",\"milk\",\"egg\",\"butter\".\n",
    "+ Add \"cheese\" at the end of the list.\n",
    "+ remove milk from the list.\n",
    "+ print the final list of the groceries.\n",
    "+ insert 'yogurt' at the index 1"
   ]
  },
  {
   "cell_type": "code",
   "execution_count": 176,
   "id": "da99ad4d-46b3-4cc6-a3f1-03e4827b2e0d",
   "metadata": {},
   "outputs": [
    {
     "data": {
      "text/plain": [
       "['bread', 'milk', 'egg', 'butter']"
      ]
     },
     "execution_count": 176,
     "metadata": {},
     "output_type": "execute_result"
    }
   ],
   "source": [
    "groceries=['bread','milk','egg','butter']\n",
    "groceries"
   ]
  },
  {
   "cell_type": "code",
   "execution_count": 178,
   "id": "d7275bb8-43ca-458a-8a98-4d85ad1fa941",
   "metadata": {},
   "outputs": [
    {
     "data": {
      "text/plain": [
       "['bread', 'milk', 'egg', 'butter', 'cheese']"
      ]
     },
     "execution_count": 178,
     "metadata": {},
     "output_type": "execute_result"
    }
   ],
   "source": [
    "groceries.append('cheese')\n",
    "groceries"
   ]
  },
  {
   "cell_type": "code",
   "execution_count": 180,
   "id": "e4d89f27-a9be-42e5-808b-840bca998f46",
   "metadata": {},
   "outputs": [
    {
     "data": {
      "text/plain": [
       "['bread', 'egg', 'butter', 'cheese']"
      ]
     },
     "execution_count": 180,
     "metadata": {},
     "output_type": "execute_result"
    }
   ],
   "source": [
    "groceries.remove('milk')\n",
    "groceries"
   ]
  },
  {
   "cell_type": "code",
   "execution_count": 182,
   "id": "e817b9fb-6cd5-4915-96ae-5a82090a8021",
   "metadata": {},
   "outputs": [
    {
     "name": "stdout",
     "output_type": "stream",
     "text": [
      "Final list groceries: ['bread', 'egg', 'butter', 'cheese']\n"
     ]
    }
   ],
   "source": [
    "print(\"Final list groceries:\",groceries)"
   ]
  },
  {
   "cell_type": "code",
   "execution_count": 184,
   "id": "ff2a31ba-2914-4680-aab7-f5b3055d804e",
   "metadata": {},
   "outputs": [
    {
     "data": {
      "text/plain": [
       "['bread', 'yogurt', 'egg', 'butter', 'cheese']"
      ]
     },
     "execution_count": 184,
     "metadata": {},
     "output_type": "execute_result"
    }
   ],
   "source": [
    "groceries.insert(1,'yogurt')\n",
    "groceries"
   ]
  },
  {
   "cell_type": "code",
   "execution_count": null,
   "id": "b2a614d2-cea5-48e2-ad8d-114d653c0dd5",
   "metadata": {},
   "outputs": [],
   "source": []
  }
 ],
 "metadata": {
  "kernelspec": {
   "display_name": "Python 3 (ipykernel)",
   "language": "python",
   "name": "python3"
  },
  "language_info": {
   "codemirror_mode": {
    "name": "ipython",
    "version": 3
   },
   "file_extension": ".py",
   "mimetype": "text/x-python",
   "name": "python",
   "nbconvert_exporter": "python",
   "pygments_lexer": "ipython3",
   "version": "3.12.4"
  }
 },
 "nbformat": 4,
 "nbformat_minor": 5
}
