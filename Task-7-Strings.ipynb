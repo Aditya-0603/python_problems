{
 "cells": [
  {
   "cell_type": "markdown",
   "id": "659c4022-316b-42a1-9001-23300888c1b5",
   "metadata": {},
   "source": [
    "# Define Strings and its properties.\n"
   ]
  },
  {
   "cell_type": "markdown",
   "id": "f2d09160-0dcf-4bf2-a892-0ca6640e3854",
   "metadata": {},
   "source": [
    "-A string is a sequence of characters enclosed within single quotes (' '), double quotes (\" \"), or triple quotes (''' ''' or \"\"\" \"\"\").  \n",
    "  \n",
    "**Properties-**\n",
    "1. Ordered:  \n",
    "Strings are ordered sequences, meaning each character has a position (index).  \n",
    "2. Immutable:  \n",
    "Once created, strings cannot be changed.  \n",
    "3. Indexing and Slicing Supported:  \n",
    "You can access individual characters and parts of a string using indexing and slicing.  \n",
    "4. Iterable:  \n",
    "You can loop through a string using a for loop.  \n",
    "5. Concatenation Supported:  \n",
    "Strings can be joined using the + operator.  \n",
    "6. Repetition Supported:  \n",
    "You can repeat a string using the * operator.  \n",
    "7. Rich Built-in Methods:  \n",
    "Strings have many helpful methods like .lower(), .upper(), .find(), .replace(), .split(), etc.  "
   ]
  },
  {
   "cell_type": "markdown",
   "id": "4d40c29a-71e8-4514-a521-225dbd757770",
   "metadata": {},
   "source": [
    "**s = \"$python is fun, python is easy, but python is tough when you don't practice it revise it@\"**\n",
    "# 2. How many characters are present in the above string"
   ]
  },
  {
   "cell_type": "code",
   "execution_count": 12,
   "id": "0f44825f-3d9b-4549-a164-5e409898a8d5",
   "metadata": {},
   "outputs": [
    {
     "name": "stdout",
     "output_type": "stream",
     "text": [
      "The characters present in the above string is: 89\n"
     ]
    }
   ],
   "source": [
    "s = \"$python is fun, python is easy, but python is tough when you don't practice it revise it@\"\n",
    "print(\"The characters present in the above string is:\",len(s))"
   ]
  },
  {
   "cell_type": "markdown",
   "id": "f8ab0ce7-3eb6-4af9-8ce5-417b9e35504f",
   "metadata": {},
   "source": [
    "# 3. Access the First word 'python' using positive indexing\n"
   ]
  },
  {
   "cell_type": "code",
   "execution_count": 85,
   "id": "3f2842ef-da44-48b8-807d-feb647ac6c51",
   "metadata": {},
   "outputs": [
    {
     "name": "stdout",
     "output_type": "stream",
     "text": [
      "The First word 'Python' access using positive indexing is: python\n"
     ]
    }
   ],
   "source": [
    "print(\"The First word 'Python' access using positive indexing is:\",s[1:7])"
   ]
  },
  {
   "cell_type": "markdown",
   "id": "7fcc9392-7185-41a4-8faa-d1b227c5fa9f",
   "metadata": {},
   "source": [
    "# 4. Access the words 'revise it' using negative indexing"
   ]
  },
  {
   "cell_type": "code",
   "execution_count": 83,
   "id": "f0ed6158-9d36-4928-aa01-eec4cd9f3d5c",
   "metadata": {},
   "outputs": [
    {
     "name": "stdout",
     "output_type": "stream",
     "text": [
      "The First word 'revise it' access using negative indexing is: revise it\n"
     ]
    }
   ],
   "source": [
    "print(\"The First word 'revise it' access using negative indexing is:\",s[79:-1])"
   ]
  },
  {
   "cell_type": "markdown",
   "id": "7f2a856e-0f82-43b3-a5f9-4d7d9b09241e",
   "metadata": {},
   "source": [
    "# 5. Access “Python is easy”."
   ]
  },
  {
   "cell_type": "code",
   "execution_count": 87,
   "id": "39cf5dd0-9b8f-4f09-aeb0-09893e073378",
   "metadata": {},
   "outputs": [
    {
     "name": "stdout",
     "output_type": "stream",
     "text": [
      "Accessed word is: python is easy\n"
     ]
    }
   ],
   "source": [
    "print(\"Accessed word is:\",s[16:30])"
   ]
  },
  {
   "cell_type": "markdown",
   "id": "9b517fc3-c843-4d6c-a184-c14cde3b65d7",
   "metadata": {},
   "source": [
    "# 6. Write a program that takes a sentence ='Give papa a cup of proper coffee in a copper coffee cup' as input and replaces all occurrences of the word \"coffee\" with \"tea\".  \n",
    "- Check if the above sentence starts with \"Hello\" and ends with \"cup\".   \n",
    "- Return the above sentence in title case and capital case.  \n"
   ]
  },
  {
   "cell_type": "code",
   "execution_count": 121,
   "id": "aeffd77f-d129-4db8-ac83-8fcb1bc4cf0a",
   "metadata": {},
   "outputs": [
    {
     "name": "stdout",
     "output_type": "stream",
     "text": [
      "The word coffee is replaced to tea:-- Give papa a cup of proper tea in a copper tea cup\n",
      "Check if the sentence starts with 'Hello': False\n",
      "Check if the sentence starts with 'cup': False\n"
     ]
    }
   ],
   "source": [
    "sentence =\"Give papa a cup of proper coffee in a copper coffee cup\" \n",
    "print(\"The word coffee is replaced to tea:--\",sentence.replace(\"coffee\",\"tea\"))\n",
    "print(\"Check if the sentence starts with 'Hello':\",s.startswith(\"Hello\"))\n",
    "print(\"Check if the sentence starts with 'cup':\",s.endswith(\"cup\"))"
   ]
  },
  {
   "cell_type": "markdown",
   "id": "6c7f6347-1647-4cf3-9a3a-31ae10f46f91",
   "metadata": {},
   "source": [
    "# 7. Convert the above sentence into uppercase and count how many times the letter ‘P’ is repeated.\n",
    "Now, convert the whole string into lowercase and find the index of letter ‘c’."
   ]
  },
  {
   "cell_type": "code",
   "execution_count": 127,
   "id": "858b874c-2ada-4ab0-b404-18c61d3b980a",
   "metadata": {},
   "outputs": [
    {
     "name": "stdout",
     "output_type": "stream",
     "text": [
      "The sentence is converted to uppercase: GIVE PAPA A CUP OF PROPER COFFEE IN A COPPER COFFEE CUP\n",
      "The letter 'P' repeated in sentence is: 8\n",
      "The sentence is converted to uppercase: give papa a cup of proper coffee in a copper coffee cup\n",
      "Find index letter c: 12\n"
     ]
    }
   ],
   "source": [
    "print(\"The sentence is converted to uppercase:\",sentence.upper()) \n",
    "sentence=sentence.upper()\n",
    "print(\"The letter 'P' repeated in sentence is:\",sentence.count('P')) \n",
    "print(\"The sentence is converted to uppercase:\",sentence.lower()) \n",
    "sentence=sentence.lower()\n",
    "print(\"Find index letter c:\",sentence.index(\"c\"))"
   ]
  },
  {
   "cell_type": "markdown",
   "id": "7e22c363-86fb-46a9-a6b7-96f3b3e962e9",
   "metadata": {},
   "source": [
    "# 8. lis = ['I','want','to','become','Data','Scientist']\n",
    "-join the above list using join() function       \n",
    "-Create a variable to store the string \"Earth revolves around the sun\"  \n",
    "-Print \"revolves\" using slice operator          \n",
    "-Print \"sun\" using negative index   "
   ]
  },
  {
   "cell_type": "code",
   "execution_count": 221,
   "id": "16d6613e-477b-4082-8ebc-2d4025039b3e",
   "metadata": {},
   "outputs": [
    {
     "name": "stdout",
     "output_type": "stream",
     "text": [
      "The join of the above list is: I want to become Data Scientist\n",
      "The word revoles using slice operator:  revolves\n",
      "The word sun using negative indexing: sun\n"
     ]
    }
   ],
   "source": [
    "lis = ['I','want','to','become','Data','Scientist']\n",
    "joined=\" \".join(lis)\n",
    "print(\"The join of the above list is:\",joined)\n",
    "var1=\"Earth revolves around the sun\"\n",
    "print(\"The word revoles using slice operator:\",var1[5:14])\n",
    "print(\"The word sun using negative indexing:\",var1[-3:])"
   ]
  },
  {
   "cell_type": "markdown",
   "id": "1b2ffdbd-fe9c-4681-ab0e-49b5e568207f",
   "metadata": {},
   "source": [
    "# 9.create two variables to store how many fruits and vegetables you eat in a day.\n",
    "Now, Print \"I eat x veggies and y fruits daily\" where x and y presents vegetables and fruits that you eat everyday.\n"
   ]
  },
  {
   "cell_type": "code",
   "execution_count": 229,
   "id": "e4af3ba8-f965-426c-bb48-ec99aad634b4",
   "metadata": {},
   "outputs": [
    {
     "name": "stdout",
     "output_type": "stream",
     "text": [
      "I eat carrot veggies and mango fruits daily\n"
     ]
    }
   ],
   "source": [
    "x=\"carrot\"\n",
    "y=\"mango\"\n",
    "print(f\"I eat {x} veggies and {y} fruits daily\")"
   ]
  },
  {
   "cell_type": "markdown",
   "id": "fbf661f1-f9f8-47c8-982a-f4bc8c63b1a8",
   "metadata": {},
   "source": [
    "# 10. Explore all string methods from documentation or use dir() function and write one line explanation for each method.\n"
   ]
  },
  {
   "cell_type": "markdown",
   "id": "be959755-2095-4e25-96b4-3a8c75128cdd",
   "metadata": {},
   "source": [
    "- `capitalize()` – Capitalizes the first character of the string.\n",
    "- `casefold()` – Converts the string to lowercase, more aggressive than `lower()`.\n",
    "- `center(width)` – Centers the string in a field of given width.\n",
    "- `count(sub)` – Returns the number of non-overlapping occurrences of `sub`.\n",
    "- `endswith(suffix)` – Returns `True` if the string ends with the specified suffix.\n",
    "- `find(sub)` – Returns the lowest index of the substring, or `-1` if not found.\n",
    "- `index(sub)` – Like `find()`, but raises a `ValueError` if not found.\n",
    "- `isalnum()` – Returns `True` if all characters are alphanumeric.\n",
    "- `isalpha()` – Returns `True` if all characters are alphabetic.\n",
    "- `isdigit()` – Returns `True` if all characters are digits.\n",
    "- `islower()` – Returns `True` if all characters are lowercase.\n",
    "- `isupper()` – Returns `True` if all characters are uppercase.\n",
    "- `isspace()` – Returns `True` if all characters are whitespace.\n",
    "- `istitle()` – Returns `True` if the string is in title case.\n",
    "- `join(iterable)` – Joins elements of an iterable with the string as separator.\n",
    "- `lower()` – Converts all characters in the string to lowercase.\n",
    "- `upper()` – Converts all characters in the string to uppercase.\n",
    "- `title()` – Converts the first character of each word to uppercase.\n",
    "- `replace(old, new)` – Replaces all occurrences of `old` with `new`.\n",
    "- `split(sep)` – Splits the string at the specified separator.\n",
    "- `strip()` – Removes leading and trailing whitespace.\n",
    "- `lstrip()` – Removes leading whitespace.\n",
    "- `rstrip()` – Removes trailing whitespace.\n",
    "- `startswith(prefix)` – Returns `True` if the string starts with the specified prefix.\n",
    "- `swapcase()` – Swaps uppercase to lowercase and vice versa.\n",
    "- `zfill(width)` – Pads the string on the left with zeros to fill the given width."
   ]
  }
 ],
 "metadata": {
  "kernelspec": {
   "display_name": "Python 3 (ipykernel)",
   "language": "python",
   "name": "python3"
  },
  "language_info": {
   "codemirror_mode": {
    "name": "ipython",
    "version": 3
   },
   "file_extension": ".py",
   "mimetype": "text/x-python",
   "name": "python",
   "nbconvert_exporter": "python",
   "pygments_lexer": "ipython3",
   "version": "3.12.4"
  }
 },
 "nbformat": 4,
 "nbformat_minor": 5
}
