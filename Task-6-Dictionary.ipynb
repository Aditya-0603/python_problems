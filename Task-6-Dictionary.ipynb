{
 "cells": [
  {
   "cell_type": "markdown",
   "id": "77489305-7a5e-4c8a-baf1-fd68f92940c9",
   "metadata": {},
   "source": [
    "## 1.Define Dictionary, its properties and examples for each method."
   ]
  },
  {
   "cell_type": "markdown",
   "id": "d2543ff5-bede-4b5e-9fc0-2fc62c25a206",
   "metadata": {},
   "source": [
    "-A dictionary in Python is an unordered collection of key-value pairs. It is mutable, meaning it can be changed after creation, and keys must be unique and immutable.    \n",
    "\n",
    "**Properties:**\n",
    "\n",
    "1. Ordered (as of Python 3.7+): Items maintain the order in which they were added.\n",
    "\n",
    "2. Mutable: You can change, add, or remove items after the dictionary is created.\n",
    "\n",
    "3. No Duplicate Keys: Each key must be unique; assigning a value to an existing key updates its value.\n",
    "\n",
    "4. Key Constraints: Keys must be of an immutable data type (e.g., strings, numbers, tuples)."
   ]
  },
  {
   "cell_type": "markdown",
   "id": "7878c2d2-aa86-4623-92a3-54df2ad6062d",
   "metadata": {},
   "source": [
    "## 2. Explore all the methods in the dictionary and write examples for each method\n"
   ]
  },
  {
   "cell_type": "markdown",
   "id": "4db38e1b-980e-459d-b6ab-a91568ad93c5",
   "metadata": {},
   "source": [
    "**get()**        -To prevent a KeyError exception, we can use the get() function on a dictionary. Then, if a value is not found for a given key, it returns nothing (and otherwise returns the value associated with that key).      \n",
    "**keys()**    \t-Returns list of all keys.  \n",
    "**values()**    -Returns list of all values.  \n",
    "**items()**    \t-Returns list of key-value tuples  \n",
    "**update()**\t-Updates dictionary with new key/values.  \n",
    "**pop()**\t    -Removes key and returns its value.  \n",
    "**popitem()**   -to remove last key value  \n",
    "**copy()**      -Return a shallow copy of the dictionary  \n",
    "**del**         - deletes the dictionaryr"
   ]
  },
  {
   "cell_type": "code",
   "execution_count": 97,
   "id": "8ac342d3-13d9-409d-847b-839ff0004e11",
   "metadata": {},
   "outputs": [
    {
     "data": {
      "text/plain": [
       "'Pradeep'"
      ]
     },
     "execution_count": 97,
     "metadata": {},
     "output_type": "execute_result"
    }
   ],
   "source": [
    "students = {\"111\":\"Pradeep\", \"222\":\"Kumar\" ,\"333\":\"Jayesh\", \"4444\":\"Yash\"}\n",
    "students.get(\"111\")"
   ]
  },
  {
   "cell_type": "code",
   "execution_count": 99,
   "id": "16b7c11d-0fff-496b-9896-1301aa42c1a6",
   "metadata": {},
   "outputs": [
    {
     "data": {
      "text/plain": [
       "dict_keys(['111', '222', '333', '4444'])"
      ]
     },
     "execution_count": 99,
     "metadata": {},
     "output_type": "execute_result"
    }
   ],
   "source": [
    "students.keys()"
   ]
  },
  {
   "cell_type": "code",
   "execution_count": 101,
   "id": "aa0f9aa2-4bb7-4c3f-926f-25a6e7706981",
   "metadata": {},
   "outputs": [
    {
     "data": {
      "text/plain": [
       "dict_values(['Pradeep', 'Kumar', 'Jayesh', 'Yash'])"
      ]
     },
     "execution_count": 101,
     "metadata": {},
     "output_type": "execute_result"
    }
   ],
   "source": [
    "students.values()"
   ]
  },
  {
   "cell_type": "code",
   "execution_count": 103,
   "id": "2bec65fa-1308-4efd-a2e2-3bcbc1f684e0",
   "metadata": {},
   "outputs": [
    {
     "data": {
      "text/plain": [
       "dict_items([('111', 'Pradeep'), ('222', 'Kumar'), ('333', 'Jayesh'), ('4444', 'Yash')])"
      ]
     },
     "execution_count": 103,
     "metadata": {},
     "output_type": "execute_result"
    }
   ],
   "source": [
    "students.items()"
   ]
  },
  {
   "cell_type": "code",
   "execution_count": 105,
   "id": "c2fedcdf-22e2-4401-9ad4-7057c9379f6b",
   "metadata": {},
   "outputs": [
    {
     "data": {
      "text/plain": [
       "{'111': 'Rohan', '222': 'Kumar', '333': 'Jayesh', '4444': 'Yash'}"
      ]
     },
     "execution_count": 105,
     "metadata": {},
     "output_type": "execute_result"
    }
   ],
   "source": [
    "students.update({\"111\":\"Rohan\"})\n",
    "students"
   ]
  },
  {
   "cell_type": "code",
   "execution_count": 107,
   "id": "42ff7882-ed09-4441-9eef-5bb637037952",
   "metadata": {},
   "outputs": [
    {
     "data": {
      "text/plain": [
       "'Rohan'"
      ]
     },
     "execution_count": 107,
     "metadata": {},
     "output_type": "execute_result"
    }
   ],
   "source": [
    "students.pop(\"111\")"
   ]
  },
  {
   "cell_type": "code",
   "execution_count": 109,
   "id": "5ab1c070-b683-4e84-9b41-236461a57336",
   "metadata": {},
   "outputs": [
    {
     "data": {
      "text/plain": [
       "('4444', 'Yash')"
      ]
     },
     "execution_count": 109,
     "metadata": {},
     "output_type": "execute_result"
    }
   ],
   "source": [
    "students.popitem()"
   ]
  },
  {
   "cell_type": "code",
   "execution_count": 115,
   "id": "74e88f0f-124c-425a-b309-51cd601cd5f2",
   "metadata": {},
   "outputs": [
    {
     "name": "stdout",
     "output_type": "stream",
     "text": [
      "{'111': 'Pradeep', '222': 'Kumar', '333': 'Jayesh', '4444': 'Yash'}\n",
      "{'111': 'Pradeep', '222': 'Kumar', '333': 'Jayesh', '4444': 'Yash', 'Mohit': '555'}\n"
     ]
    }
   ],
   "source": [
    "students={\"111\":\"Pradeep\", \"222\":\"Kumar\" ,\"333\":\"Jayesh\", \"4444\":\"Yash\"}\n",
    "new_students = students.copy()\n",
    "new_students[\"Mohit\"] = \"555\"\n",
    "print(students)\n",
    "print(new_students)"
   ]
  },
  {
   "cell_type": "code",
   "execution_count": 124,
   "id": "9848765d-904c-427d-8cfa-a43f931f980a",
   "metadata": {},
   "outputs": [
    {
     "ename": "SyntaxError",
     "evalue": "invalid syntax (1343233688.py, line 1)",
     "output_type": "error",
     "traceback": [
      "\u001b[1;36m  Cell \u001b[1;32mIn[124], line 1\u001b[1;36m\u001b[0m\n\u001b[1;33m    del.students\u001b[0m\n\u001b[1;37m       ^\u001b[0m\n\u001b[1;31mSyntaxError\u001b[0m\u001b[1;31m:\u001b[0m invalid syntax\n"
     ]
    }
   ],
   "source": [
    "del.students\n",
    "students"
   ]
  },
  {
   "cell_type": "markdown",
   "id": "2d23ded7-f2d1-4f41-bfee-7df0b7cfad2f",
   "metadata": {},
   "source": [
    "## 3. Create a python program that defines a dictionary to store information about your favorite book. Include the title, author,publication year, and genre as key-value pairs.print out the dictionary and do at least 5 dictionary methods on it."
   ]
  },
  {
   "cell_type": "code",
   "execution_count": 154,
   "id": "159a8e12-2dfe-4325-8b6f-2075f03ee7af",
   "metadata": {},
   "outputs": [
    {
     "name": "stdout",
     "output_type": "stream",
     "text": [
      "{'title': 'Harry Potter', 'author': 'J. K. Rowling', 'publication_year': '1997-2007', 'genre': 'Fiction'}\n",
      "Author name: J. K. Rowling\n",
      "Keys are: dict_keys(['title', 'author', 'publication_year', 'genre'])\n",
      "Values are: dict_values(['Harry Potter', 'J. K. Rowling', '1997-2007', 'Fiction'])\n",
      "Updated : None\n",
      "{'title': 'Harry Potter', 'author': 'J. K. Rowling', 'publication_year': '1997-2007', 'genre': 'Fiction', 'lead actor': 'Daniel radcliffe'}\n",
      "Poping:: Daniel radcliffe\n",
      "{'title': 'Harry Potter', 'author': 'J. K. Rowling', 'publication_year': '1997-2007', 'genre': 'Fiction'}\n"
     ]
    }
   ],
   "source": [
    "book = {\"title\":\"Harry Potter\",\"author\":\"J. K. Rowling\",\"publication_year\":\"1997-2007\",\"genre\":\"Fiction\"}\n",
    "print(book)\n",
    "print(\"Author name:\",book.get(\"author\"))\n",
    "print(\"Keys are:\",book.keys())\n",
    "print(\"Values are:\",book.values())\n",
    "print(\"Updated :\",book.update({\"lead actor\":\"Daniel radcliffe\"}))\n",
    "print(book)\n",
    "print(\"Poping::\",book.pop(\"lead actor\"))\n",
    "print(book)"
   ]
  },
  {
   "cell_type": "markdown",
   "id": "c9ada7da-6391-4afb-b275-9eeb128fd3c6",
   "metadata": {},
   "source": [
    "## 4. Write a Python program that simulates a simple dictionary for translating English words to Spanish. Define a dictionary containing a few English words as keys and their corresponding Spanish translations as values. Allow users to enter an English word, and then display its Spanish translation if it exists in the dictionary.(use google for English to Spanish translator)"
   ]
  },
  {
   "cell_type": "code",
   "execution_count": 165,
   "id": "8f3f8726-1ee4-46cd-bb5b-e657123dbb50",
   "metadata": {},
   "outputs": [
    {
     "name": "stdin",
     "output_type": "stream",
     "text": [
      "Enter English word to translate into spanish: hello\n"
     ]
    },
    {
     "name": "stdout",
     "output_type": "stream",
     "text": [
      "Spanish translation of 'hello'  is: hola\n"
     ]
    }
   ],
   "source": [
    "eng_to_spanish = {'hello':'hola','goodbye':'adios','please':'pop favor','thank you':'gracias','yes':'si','no':'no'}\n",
    "word = input(\"Enter English word to translate into spanish:\").lower()\n",
    "if word in eng_to_spanish:\n",
    "    print(f\"Spanish translation of '{word}'  is: {eng_to_spanish[word]}\")\n",
    "else:\n",
    "    print(f\"sorry,the word {word} is not in dictionary.\")\n"
   ]
  },
  {
   "cell_type": "markdown",
   "id": "25040648-7e3d-45ff-a191-fe31127497c7",
   "metadata": {},
   "source": [
    "## 5. Create a Python program that stores the grades of five students in a dictionary. Allow users to input the names of the students and their respective grades. Calculate and display the average grade of the students."
   ]
  },
  {
   "cell_type": "code",
   "execution_count": 187,
   "id": "3b290642-49a4-4da2-aea6-bc22067ea22d",
   "metadata": {},
   "outputs": [
    {
     "name": "stdin",
     "output_type": "stream",
     "text": [
      "Enter student name:  rohan55\n",
      "Enter grade:  55\n",
      "Enter student name:  govind\n",
      "Enter grade:  76\n",
      "Enter student name:  mohit\n",
      "Enter grade:  56\n",
      "Enter student name:  yash\n",
      "Enter grade:  89\n",
      "Enter student name:  jayesh\n",
      "Enter grade:  80\n"
     ]
    },
    {
     "name": "stdout",
     "output_type": "stream",
     "text": [
      "{'rohan55': 55.0, 'govind': 76.0, 'mohit': 56.0, 'yash': 89.0, 'jayesh': 80.0}\n",
      "Average grade: 71.2\n"
     ]
    }
   ],
   "source": [
    "grades = {}\n",
    "for i in range(5):\n",
    "    name = input(\"Enter student name: \")\n",
    "    grade = float(input(\"Enter grade: \"))\n",
    "    grades[name] = grade\n",
    "\n",
    "total = sum(grades.values())\n",
    "average = total / len(grades)\n",
    "print(grades)\n",
    "print(\"Average grade:\", average)"
   ]
  },
  {
   "cell_type": "markdown",
   "id": "95eb895b-5552-4164-817f-aa5fdb912ccf",
   "metadata": {},
   "source": [
    "## 6.Build a basic contact list using a dictionary. Initially, the dictionary can be empty. Allow users to add new contacts with names and phone numbers. Users should also be able to search for contacts by name and display their phone numbers(use in operator).\n"
   ]
  },
  {
   "cell_type": "code",
   "execution_count": 190,
   "id": "dbcc2b87-b551-4e72-95bb-6286dbb4145b",
   "metadata": {},
   "outputs": [
    {
     "name": "stdin",
     "output_type": "stream",
     "text": [
      "Enter contact name:  rohan\n",
      "Enter phone number:  5489642357\n",
      "Enter contact name:  jayesh\n",
      "Enter phone number:  8746845627\n",
      "Enter name to search:  rohan\n"
     ]
    },
    {
     "name": "stdout",
     "output_type": "stream",
     "text": [
      "Phone number: 5489642357\n"
     ]
    }
   ],
   "source": [
    "contacts = {}  \n",
    "name1 = input(\"Enter contact name: \")\n",
    "contacts[name1] = input(\"Enter phone number: \")\n",
    "name2 = input(\"Enter contact name: \")\n",
    "contacts[name2] = input(\"Enter phone number: \")\n",
    "search = input(\"Enter name to search: \")\n",
    "if search in contacts:\n",
    "    print(\"Phone number:\", contacts[search])\n",
    "else:\n",
    "    print(\"Contact not found.\")"
   ]
  },
  {
   "cell_type": "markdown",
   "id": "c9fbb451-2059-46b2-99b8-0fab0330a90c",
   "metadata": {},
   "source": [
    "## 7.Write a Python program that defines a dictionary containing the names of fruits as keys and their corresponding colors as values (e.g., 'apple': 'red').Do atleast 5 dictionary methods on it.\n"
   ]
  },
  {
   "cell_type": "code",
   "execution_count": 193,
   "id": "f1301282-68be-4bf3-b853-6b0a54f2d1be",
   "metadata": {},
   "outputs": [
    {
     "name": "stdout",
     "output_type": "stream",
     "text": [
      "red\n",
      "{'apple': 'red', 'banana': 'light yellow', 'grape': 'purple', 'orange': 'orange', 'kiwi': 'green'}\n",
      "dict_keys(['apple', 'banana', 'grape', 'orange', 'kiwi'])\n",
      "dict_values(['red', 'light yellow', 'purple', 'orange', 'green'])\n",
      "dict_items([('apple', 'red'), ('banana', 'light yellow'), ('grape', 'purple'), ('orange', 'orange'), ('kiwi', 'green')])\n"
     ]
    }
   ],
   "source": [
    "fruits = {\n",
    "    \"apple\": \"red\",\n",
    "    \"banana\": \"yellow\",\n",
    "    \"grape\": \"purple\",\n",
    "    \"orange\": \"orange\",\n",
    "    \"kiwi\": \"green\"\n",
    "}\n",
    "print(fruits.get(\"apple\"))\n",
    "fruits[\"banana\"] = \"light yellow\"\n",
    "print(fruits)\n",
    "print(fruits.keys())\n",
    "print(fruits.values())\n",
    "print(fruits.items())\n"
   ]
  },
  {
   "cell_type": "code",
   "execution_count": null,
   "id": "fae4d232-459d-4d00-88ea-bf449baca186",
   "metadata": {},
   "outputs": [],
   "source": []
  }
 ],
 "metadata": {
  "kernelspec": {
   "display_name": "Python 3 (ipykernel)",
   "language": "python",
   "name": "python3"
  },
  "language_info": {
   "codemirror_mode": {
    "name": "ipython",
    "version": 3
   },
   "file_extension": ".py",
   "mimetype": "text/x-python",
   "name": "python",
   "nbconvert_exporter": "python",
   "pygments_lexer": "ipython3",
   "version": "3.12.4"
  }
 },
 "nbformat": 4,
 "nbformat_minor": 5
}
