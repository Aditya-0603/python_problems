{
 "cells": [
  {
   "cell_type": "markdown",
   "id": "347c673b-e07e-4890-aa94-c7a714b2c712",
   "metadata": {},
   "source": [
    "## 1. Immutability in python tuples with example. Discuss why tuples are considered immutable data structures. "
   ]
  },
  {
   "cell_type": "markdown",
   "id": "6dceac80-b878-453a-8e9c-144afdff17bd",
   "metadata": {},
   "source": [
    "- In Python, immutability means that once an object is created, it cannot be changed.Any attempt to change its contents will result in an error.  \n",
    "- A tuple is a built-in data structure in Python that is ordered, can contain heterogeneous data, and is immutable.  \n",
    "- You cannot change, add, or remove items after the tuple is created.  \n",
    "- Tuples protect data from accidental modification.  \n",
    "**Tuples are considered immutable data structures beacause:**\n",
    "  - Data integrity\n",
    "  - Hashable\n",
    "  - Faster than list\n",
    "  - Safe in multi-threading "
   ]
  },
  {
   "cell_type": "code",
   "execution_count": 7,
   "id": "51e470ac-23df-42fe-a064-bf2207e9759d",
   "metadata": {},
   "outputs": [
    {
     "ename": "TypeError",
     "evalue": "'tuple' object does not support item assignment",
     "output_type": "error",
     "traceback": [
      "\u001b[1;31m---------------------------------------------------------------------------\u001b[0m",
      "\u001b[1;31mTypeError\u001b[0m                                 Traceback (most recent call last)",
      "Cell \u001b[1;32mIn[7], line 2\u001b[0m\n\u001b[0;32m      1\u001b[0m num\u001b[38;5;241m=\u001b[39m(\u001b[38;5;241m1\u001b[39m,\u001b[38;5;241m2\u001b[39m,\u001b[38;5;241m3\u001b[39m,\u001b[38;5;241m4\u001b[39m)\n\u001b[1;32m----> 2\u001b[0m num[\u001b[38;5;241m0\u001b[39m]\u001b[38;5;241m=\u001b[39m\u001b[38;5;241m5\u001b[39m\n",
      "\u001b[1;31mTypeError\u001b[0m: 'tuple' object does not support item assignment"
     ]
    }
   ],
   "source": [
    "num=(1,2,3,4)\n",
    "num[0]=5"
   ]
  },
  {
   "cell_type": "markdown",
   "id": "6c42116f-3dec-4aa6-84b3-9ddb86f5a32c",
   "metadata": {},
   "source": [
    "## 2. Tuple basics create a python tuple containing the names of your favorite fruits.write a python program to print each fruit name from the tuple "
   ]
  },
  {
   "cell_type": "code",
   "execution_count": 16,
   "id": "14540ecb-a622-43f6-934b-ca694c84c4d5",
   "metadata": {},
   "outputs": [
    {
     "name": "stdout",
     "output_type": "stream",
     "text": [
      "My favorite fruits are: ('mango', 'banana', 'grapes', 'orange', 'apple')\n"
     ]
    }
   ],
   "source": [
    "fruits=(\"mango\",\"banana\",\"grapes\",\"orange\",\"apple\")\n",
    "print(\"My favorite fruits are:\",fruits)"
   ]
  },
  {
   "cell_type": "markdown",
   "id": "5d707df1-a1a2-44b9-b23b-2e9f82a38919",
   "metadata": {},
   "source": [
    "## 3. Given two tuples, write a python program to concatenate them into a single tuple and then find the length of the resulting tuple."
   ]
  },
  {
   "cell_type": "code",
   "execution_count": 33,
   "id": "54b0fe77-b7e7-45d3-8909-c920f1351734",
   "metadata": {},
   "outputs": [
    {
     "name": "stdout",
     "output_type": "stream",
     "text": [
      "Concatenate of num1 and num2: (1, 2, 3, 4, 5, 6, 7, 8)\n",
      "Length of the resulting tuple: 8\n"
     ]
    }
   ],
   "source": [
    "num1=(1,2,3,4)\n",
    "num2=(5,6,7,8)\n",
    "num3=num1+num2\n",
    "print(\"Concatenate of num1 and num2:\",num3)\n",
    "print(\"Length of the resulting tuple:\",len(num3))"
   ]
  },
  {
   "cell_type": "markdown",
   "id": "a00e4050-e210-4867-8a39-6cc614d8b7e0",
   "metadata": {},
   "source": [
    "## 4. Write a python program that makes a tuple of integers and converts it into a set .Then,find and print the maximum and minimum value from the set. "
   ]
  },
  {
   "cell_type": "code",
   "execution_count": 52,
   "id": "aa641644-addc-4eba-ae60-6e05bf1c7299",
   "metadata": {},
   "outputs": [
    {
     "name": "stdout",
     "output_type": "stream",
     "text": [
      "Converted tuple to set: {1, 2, 3, 4, 5}\n",
      "Maximum value from set is: 5\n",
      "Minimum value from set is: 1\n"
     ]
    }
   ],
   "source": [
    "num=(1,2,3,4,5)\n",
    "set1=set(num)\n",
    "print(\"Converted tuple to set:\",set1)\n",
    "print(\"Maximum value from set is:\",max(set1))\n",
    "print(\"Minimum value from set is:\",min(set1))"
   ]
  },
  {
   "cell_type": "markdown",
   "id": "9fec63be-8551-48f7-a82a-13ff0187d68f",
   "metadata": {},
   "source": [
    "## 5. Tuple slicing given a tuple of 10 elements, write a python program to print the elements from the 3rd to the 7th position using slicing"
   ]
  },
  {
   "cell_type": "code",
   "execution_count": 61,
   "id": "2d779e4b-bb77-4161-9531-6abcb59fbb82",
   "metadata": {},
   "outputs": [
    {
     "name": "stdout",
     "output_type": "stream",
     "text": [
      "Elements from 3 to 7 are: (3, 4, 5, 6, 7)\n"
     ]
    }
   ],
   "source": [
    "num=(1,2,3,4,5,6,7,8,9,10)\n",
    "print(\"Elements from 3 to 7 are:\",num[2:7])"
   ]
  },
  {
   "cell_type": "markdown",
   "id": "f9809639-4977-4469-b505-0f200a902206",
   "metadata": {},
   "source": [
    "## 6. Access value 20 from the tuple1 = (\"Orange\",[10,20,30],(5,15,25))"
   ]
  },
  {
   "cell_type": "code",
   "execution_count": 70,
   "id": "e1b88cbb-556c-4e00-99d4-5bde44857f97",
   "metadata": {},
   "outputs": [
    {
     "name": "stdout",
     "output_type": "stream",
     "text": [
      "The access value: 20\n"
     ]
    }
   ],
   "source": [
    "tuple1=(\"Orange\",[10,20,30],(5,15,25))\n",
    "print(\"The access value:\",tuple1[1][1])"
   ]
  },
  {
   "cell_type": "markdown",
   "id": "878812e4-fe6f-46db-a844-796ff00e8a15",
   "metadata": {},
   "source": [
    "## 7. tup=(1,2,3,2,4,5,3,4,2).Count the occurrences of element '2' in the given tuple."
   ]
  },
  {
   "cell_type": "code",
   "execution_count": 83,
   "id": "ada1efc0-d9c0-4ee1-80d0-bd1fe82a7bf3",
   "metadata": {},
   "outputs": [
    {
     "name": "stdout",
     "output_type": "stream",
     "text": [
      "The occurrences of 2 is: 3\n"
     ]
    }
   ],
   "source": [
    "tup=(1,2,3,2,4,5,3,4,2)\n",
    "print(\"The occurrences of 2 is:\",tup.count(2))"
   ]
  },
  {
   "cell_type": "markdown",
   "id": "8f2fd03d-9913-43d9-a9ff-f3a77a71e4d4",
   "metadata": {},
   "source": [
    "## 8. Create a tuple of numbers. Use slicing to create a new tuple containing only the even -indexed elements of the original tuple."
   ]
  },
  {
   "cell_type": "code",
   "execution_count": 96,
   "id": "890feab2-b215-405a-8165-9b1fe5397d9c",
   "metadata": {},
   "outputs": [
    {
     "name": "stdout",
     "output_type": "stream",
     "text": [
      "The even number elements are: (2, 4, 6, 8, 10)\n"
     ]
    }
   ],
   "source": [
    "num=(1,2,3,4,5,6,7,8,9,10)\n",
    "print(\"The even number elements are:\",num[1:10:2])"
   ]
  },
  {
   "cell_type": "code",
   "execution_count": null,
   "id": "06534129-acd9-4166-a3e2-0b6d3e499949",
   "metadata": {},
   "outputs": [],
   "source": []
  }
 ],
 "metadata": {
  "kernelspec": {
   "display_name": "Python 3 (ipykernel)",
   "language": "python",
   "name": "python3"
  },
  "language_info": {
   "codemirror_mode": {
    "name": "ipython",
    "version": 3
   },
   "file_extension": ".py",
   "mimetype": "text/x-python",
   "name": "python",
   "nbconvert_exporter": "python",
   "pygments_lexer": "ipython3",
   "version": "3.12.4"
  }
 },
 "nbformat": 4,
 "nbformat_minor": 5
}
