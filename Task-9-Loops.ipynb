{
 "cells": [
  {
   "cell_type": "markdown",
   "id": "1ff29fa8-1d06-4a98-8e72-0920f619dc1a",
   "metadata": {},
   "source": [
    "# 1.  Write a program to print the first 10 even numbers using while loop"
   ]
  },
  {
   "cell_type": "code",
   "execution_count": 39,
   "id": "89cfe0d0-7dd2-4cc5-a65e-3d7c75b6ffc7",
   "metadata": {},
   "outputs": [
    {
     "name": "stdout",
     "output_type": "stream",
     "text": [
      "Even Numbers of First 10 number are:\n",
      "2\n",
      "4\n",
      "6\n",
      "8\n"
     ]
    }
   ],
   "source": [
    "i=2\n",
    "num=10\n",
    "print(\"Even Numbers of First 10 number are:\")\n",
    "while i<num:\n",
    "    if i%2==0:\n",
    "        print (i)\n",
    "    i+=1"
   ]
  },
  {
   "cell_type": "markdown",
   "id": "fa6a0fd4-f780-4442-b628-92ea68d36264",
   "metadata": {},
   "source": [
    "# 2. Write a program to print the first 10 odd numbers using while loop"
   ]
  },
  {
   "cell_type": "code",
   "execution_count": 68,
   "id": "50567042-f774-4ac0-92d3-54d9a6239fc8",
   "metadata": {},
   "outputs": [
    {
     "name": "stdout",
     "output_type": "stream",
     "text": [
      "odd Numbers of First 10 number are:\n",
      "1\n",
      "3\n",
      "5\n",
      "7\n",
      "9\n"
     ]
    }
   ],
   "source": [
    "i=0\n",
    "num=10\n",
    "print(\"odd Numbers of First 10 number are:\")\n",
    "while i<num:\n",
    "    if i%2!=0:\n",
    "        print(i)\n",
    "        \n",
    "    i+=1"
   ]
  },
  {
   "cell_type": "markdown",
   "id": "3ee50076-34b1-4365-9f91-5eeb8079f805",
   "metadata": {},
   "source": [
    "# 3. Write a program to print the first 10 natural numbers using while loop"
   ]
  },
  {
   "cell_type": "code",
   "execution_count": 71,
   "id": "0ba374ea-0a7e-445e-b8c7-01326f9964ea",
   "metadata": {},
   "outputs": [
    {
     "name": "stdout",
     "output_type": "stream",
     "text": [
      "First 10 natural numbers are:\n",
      "1\n",
      "2\n",
      "3\n",
      "4\n",
      "5\n",
      "6\n",
      "7\n",
      "8\n",
      "9\n",
      "10\n"
     ]
    }
   ],
   "source": [
    "i=0\n",
    "num=10\n",
    "print(\"First 10 natural numbers are:\")\n",
    "while i<num:\n",
    "    i+=1\n",
    "    print(i)"
   ]
  },
  {
   "cell_type": "markdown",
   "id": "4ffc05b3-6783-4284-aaf4-93a3f6ad01f8",
   "metadata": {},
   "source": [
    "# 4. Write a program to print the first 10 Whole numbers using while loop"
   ]
  },
  {
   "cell_type": "code",
   "execution_count": 90,
   "id": "045a1e90-851e-4a95-a7af-1d1577bd5695",
   "metadata": {},
   "outputs": [
    {
     "name": "stdout",
     "output_type": "stream",
     "text": [
      "First 10 whole numbers are:\n",
      "0\n",
      "1\n",
      "2\n",
      "3\n",
      "4\n",
      "5\n",
      "6\n",
      "7\n",
      "8\n",
      "9\n",
      "10\n"
     ]
    }
   ],
   "source": [
    "i=-1\n",
    "num=10\n",
    "print(\"First 10 whole numbers are:\")\n",
    "while i<num:\n",
    "    i+=1\n",
    "    print(i)\n",
    "      "
   ]
  },
  {
   "cell_type": "markdown",
   "id": "0ef32312-516d-4f63-9a7a-67a8c75fb3fd",
   "metadata": {},
   "source": [
    "# 5. Write a program to prints the numbers from 1 to 10, each on a new line."
   ]
  },
  {
   "cell_type": "code",
   "execution_count": 97,
   "id": "2252a185-57ec-4dbd-948d-073d1715d9dc",
   "metadata": {},
   "outputs": [
    {
     "name": "stdout",
     "output_type": "stream",
     "text": [
      "Numbers on new line\n",
      "\n",
      " 1\n",
      "\n",
      " 2\n",
      "\n",
      " 3\n",
      "\n",
      " 4\n",
      "\n",
      " 5\n",
      "\n",
      " 6\n",
      "\n",
      " 7\n",
      "\n",
      " 8\n",
      "\n",
      " 9\n",
      "\n",
      " 10\n"
     ]
    }
   ],
   "source": [
    "i=0\n",
    "num=10\n",
    "print(\"Numbers on new line\")\n",
    "while i<num:\n",
    "    i+=1\n",
    "    print(\"\\n\",i)"
   ]
  },
  {
   "cell_type": "markdown",
   "id": "0aabc970-8d14-457b-ae10-1a33398ef357",
   "metadata": {},
   "source": [
    "# 6. Write a program that print the even numbers from 1 to 20, each on new line."
   ]
  },
  {
   "cell_type": "code",
   "execution_count": 138,
   "id": "bf690c52-a25f-46be-bf90-131d905223ec",
   "metadata": {},
   "outputs": [
    {
     "name": "stdout",
     "output_type": "stream",
     "text": [
      "The even number from 1 to 20 on new line are:\n",
      "\n",
      " 2\n",
      "\n",
      " 4\n",
      "\n",
      " 6\n",
      "\n",
      " 8\n",
      "\n",
      " 10\n",
      "\n",
      " 12\n",
      "\n",
      " 14\n",
      "\n",
      " 16\n",
      "\n",
      " 18\n"
     ]
    }
   ],
   "source": [
    "print(\"The even number from 1 to 20 on new line are:\")\n",
    "for i in range (1,20):\n",
    "    if i%2==0:\n",
    "        print(\"\\n\",i)\n",
    "    "
   ]
  },
  {
   "cell_type": "markdown",
   "id": "0ec34928-9396-49f7-8aff-87115f56372b",
   "metadata": {},
   "source": [
    "# 7. Write a program that calculates and prints the sqaure of each number from 1 to 20"
   ]
  },
  {
   "cell_type": "code",
   "execution_count": 134,
   "id": "3dea4cf0-0b07-4d6b-b9b8-b85a864b9735",
   "metadata": {},
   "outputs": [
    {
     "name": "stdout",
     "output_type": "stream",
     "text": [
      "The square of each number are:\n",
      "1\n",
      "4\n",
      "9\n",
      "16\n",
      "25\n",
      "36\n",
      "49\n",
      "64\n",
      "81\n",
      "100\n",
      "121\n",
      "144\n",
      "169\n",
      "196\n",
      "225\n",
      "256\n",
      "289\n",
      "324\n",
      "361\n"
     ]
    }
   ],
   "source": [
    "print(\"The square of each number are:\")\n",
    "for i in range (1,20):\n",
    "    print(i**2)\n",
    "    "
   ]
  },
  {
   "cell_type": "markdown",
   "id": "69cdfc98-a95b-4f55-a7aa-afe5441648e9",
   "metadata": {},
   "source": [
    "# 8. Write a program that prints the multiplies of 3 to 30, each on new line"
   ]
  },
  {
   "cell_type": "code",
   "execution_count": 143,
   "id": "2b2b83d8-be01-4f47-8370-5689218a2589",
   "metadata": {},
   "outputs": [
    {
     "name": "stdout",
     "output_type": "stream",
     "text": [
      "The mutiplies of 3 from 3 to 30 are:\n",
      "3\n",
      "6\n",
      "9\n",
      "12\n",
      "15\n",
      "18\n",
      "21\n",
      "24\n",
      "27\n",
      "30\n"
     ]
    }
   ],
   "source": [
    "print(\"The mutiplies of 3 from 3 to 30 are:\")\n",
    "for i in range(1,11):\n",
    "    print(i*3)"
   ]
  },
  {
   "cell_type": "markdown",
   "id": "0c81883b-9b48-4021-b9f0-067bdbe9799f",
   "metadata": {},
   "source": [
    "# 9. Write a program that prints the numbers from 10 to 1 in descending order"
   ]
  },
  {
   "cell_type": "code",
   "execution_count": 156,
   "id": "950ecf39-b472-467b-bcae-d7d779c2e860",
   "metadata": {},
   "outputs": [
    {
     "name": "stdout",
     "output_type": "stream",
     "text": [
      "The number in descendong order are:\n",
      "10\n",
      "9\n",
      "8\n",
      "7\n",
      "6\n",
      "5\n",
      "4\n",
      "3\n",
      "2\n",
      "1\n"
     ]
    }
   ],
   "source": [
    "print(\"The number in descendong order are:\")\n",
    "for i in range(10,0,-1):\n",
    "    print(i)"
   ]
  },
  {
   "cell_type": "markdown",
   "id": "65587525-27eb-4a2d-97d6-68e8fe1e8fa3",
   "metadata": {},
   "source": [
    "# 10. Count the number of vowels in a string using a for loop\n",
    "### s2=\"Hello World\""
   ]
  },
  {
   "cell_type": "code",
   "execution_count": 175,
   "id": "a75f391e-f55b-4a3f-b577-4ff619b6436b",
   "metadata": {},
   "outputs": [
    {
     "name": "stdout",
     "output_type": "stream",
     "text": [
      "The vowel are:\n",
      "e\n",
      "o\n",
      "o\n",
      "The count of vowels are: 3\n"
     ]
    }
   ],
   "source": [
    "s2=\"Hello World\"\n",
    "vowels=\"aeiou\"\n",
    "count=0\n",
    "print(\"The vowel are:\")\n",
    "for i in s2:\n",
    "    if i in vowels:\n",
    "        count+=1\n",
    "        print(i)\n",
    "print(\"The count of vowels are:\",count)"
   ]
  },
  {
   "cell_type": "markdown",
   "id": "069f5350-9c62-42ea-85c6-4977ecd8ee79",
   "metadata": {},
   "source": [
    "# 11. Display numbers from -10 to -1 using for loop"
   ]
  },
  {
   "cell_type": "code",
   "execution_count": 178,
   "id": "004882ab-3021-4bda-acb3-e9f6173de8eb",
   "metadata": {},
   "outputs": [
    {
     "name": "stdout",
     "output_type": "stream",
     "text": [
      "The number from -10 to -1 are:\n",
      "-10\n",
      "-9\n",
      "-8\n",
      "-7\n",
      "-6\n",
      "-5\n",
      "-4\n",
      "-3\n",
      "-2\n",
      "-1\n"
     ]
    }
   ],
   "source": [
    "print(\"The number from -10 to -1 are:\")\n",
    "for i in range(-10,0,1):\n",
    "    print(i)"
   ]
  },
  {
   "cell_type": "markdown",
   "id": "132e4a9f-6ce5-47d2-85a8-6db9b14d002b",
   "metadata": {},
   "source": [
    "# 12. Find all prime numbers between 1 and 50 using a for loop."
   ]
  },
  {
   "cell_type": "code",
   "execution_count": 197,
   "id": "b26316a4-65d5-410d-867b-3c3f15a35fec",
   "metadata": {},
   "outputs": [
    {
     "name": "stdout",
     "output_type": "stream",
     "text": [
      "All prime numbers from 1 to 15 are :\n",
      "2\n",
      "3\n",
      "5\n",
      "7\n",
      "11\n",
      "13\n",
      "17\n",
      "19\n",
      "23\n",
      "29\n",
      "31\n",
      "37\n",
      "41\n",
      "43\n",
      "47\n"
     ]
    }
   ],
   "source": [
    "print(\"All prime numbers from 1 to 15 are :\")\n",
    "for num in range(2, 50):\n",
    "    is_prime = True  \n",
    "    for i in range(2, int(num ** 0.5) + 1):  \n",
    "        if num % i == 0:\n",
    "            is_prime = False\n",
    "            break\n",
    "    if is_prime:\n",
    "        print(num)"
   ]
  },
  {
   "cell_type": "markdown",
   "id": "e0e84062-3fc0-49a1-9cf6-a6f23ba99497",
   "metadata": {},
   "source": [
    "# 13. Print all uppercase letters in the string using a for loop.\n",
    "### s=\"Innomatics Research Labs\"\n",
    "\n"
   ]
  },
  {
   "cell_type": "code",
   "execution_count": 215,
   "id": "9e14d545-a0a0-4b23-bed6-fc497ea0c68b",
   "metadata": {},
   "outputs": [
    {
     "name": "stdout",
     "output_type": "stream",
     "text": [
      "In uppercase letters:\n",
      "I\n",
      "N\n",
      "N\n",
      "O\n",
      "M\n",
      "A\n",
      "T\n",
      "I\n",
      "C\n",
      "S\n",
      " \n",
      "R\n",
      "E\n",
      "A\n",
      "S\n",
      "E\n",
      "A\n",
      "R\n",
      "C\n",
      "H\n",
      " \n",
      "L\n",
      "A\n",
      "B\n",
      "S\n"
     ]
    }
   ],
   "source": [
    "s = \"Innomatics Reasearch Labs\"\n",
    "print(\"In uppercase letters:\")\n",
    "for i in s:\n",
    "    print(i.upper())"
   ]
  },
  {
   "cell_type": "code",
   "execution_count": null,
   "id": "5cdc0579-aeab-48ad-aa1a-da3b7d87b5bc",
   "metadata": {},
   "outputs": [],
   "source": []
  }
 ],
 "metadata": {
  "kernelspec": {
   "display_name": "Python 3 (ipykernel)",
   "language": "python",
   "name": "python3"
  },
  "language_info": {
   "codemirror_mode": {
    "name": "ipython",
    "version": 3
   },
   "file_extension": ".py",
   "mimetype": "text/x-python",
   "name": "python",
   "nbconvert_exporter": "python",
   "pygments_lexer": "ipython3",
   "version": "3.12.4"
  }
 },
 "nbformat": 4,
 "nbformat_minor": 5
}
