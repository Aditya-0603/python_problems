{
 "cells": [
  {
   "cell_type": "markdown",
   "id": "fcb5a1b2-4aa7-4f50-9900-450f67d45c29",
   "metadata": {},
   "source": [
    "## 1. Write a Python Program to Find Factorial of Number Using Recursion..\n",
    "## 2.Write a Python Program to calculate the natural logarithm of any number"
   ]
  },
  {
   "cell_type": "code",
   "execution_count": 16,
   "id": "010b79d8-453b-4549-b5c6-aa3eef5db3b0",
   "metadata": {},
   "outputs": [
    {
     "name": "stdin",
     "output_type": "stream",
     "text": [
      "Enter n value: 4\n"
     ]
    },
    {
     "name": "stdout",
     "output_type": "stream",
     "text": [
      "Factorial value: 24\n"
     ]
    }
   ],
   "source": [
    "def factorial(num):\n",
    "    if num==1:\n",
    "        return 1\n",
    "    else:\n",
    "        return num * factorial(num-1)\n",
    "n=int(input(\"Enter n value:\"))\n",
    "ans=factorial(n)\n",
    "print(\"Factorial value:\",ans)"
   ]
  },
  {
   "cell_type": "code",
   "execution_count": 24,
   "id": "7d00fb6f-0408-41a2-a66b-57c35bc39e25",
   "metadata": {},
   "outputs": [
    {
     "name": "stdin",
     "output_type": "stream",
     "text": [
      "Enter any number: -6\n"
     ]
    },
    {
     "name": "stdout",
     "output_type": "stream",
     "text": [
      "Natural logarithm is only defined for number positive numbers.\n"
     ]
    }
   ],
   "source": [
    "import math \n",
    "num = float(input(\"Enter any number:\"))\n",
    "if num > 0:\n",
    "    result = math.log(num)\n",
    "    print(\"The natural logarithm of\",num,\"is\",result)\n",
    "else:\n",
    "    print(\"Natural logarithm is only defined for number positive numbers.\") "
   ]
  },
  {
   "cell_type": "code",
   "execution_count": null,
   "id": "63e22d84-5a18-4e62-a1ba-719e87b7bbf0",
   "metadata": {},
   "outputs": [],
   "source": []
  }
 ],
 "metadata": {
  "kernelspec": {
   "display_name": "Python 3 (ipykernel)",
   "language": "python",
   "name": "python3"
  },
  "language_info": {
   "codemirror_mode": {
    "name": "ipython",
    "version": 3
   },
   "file_extension": ".py",
   "mimetype": "text/x-python",
   "name": "python",
   "nbconvert_exporter": "python",
   "pygments_lexer": "ipython3",
   "version": "3.12.4"
  }
 },
 "nbformat": 4,
 "nbformat_minor": 5
}
