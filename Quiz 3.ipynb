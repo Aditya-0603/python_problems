{
 "cells": [
  {
   "cell_type": "markdown",
   "id": "c8bb6a3d-5019-4c9b-969c-f7fddf55fb1c",
   "metadata": {},
   "source": [
    " 1. Write a Python Program to find sum of array.\n",
    "In Python, an array is a data structure used to store a collection of elements, each identified by an index or a key. Unlike some other programming languages, Python does not have a built-in array type. Instead, the most commonly used array-like data structure is the list.\n",
    "A list in Python is a dynamic array, meaning it can change in size during runtime. Elements in a list can be of different data types, and you can perform various operations such as adding, removing, or modifying elements. Lists are defined using square brackets [] and can be indexed and sliced to access specific elements or sublists.\n",
    "Example of a simple list in Python:\n",
    "my_list = [1, 2, 3, 4, 5]\n",
    "\n",
    "2. Write a Python Program to find largest element in an array"
   ]
  },
  {
   "cell_type": "code",
   "execution_count": 113,
   "id": "2c146e56-e712-4ac7-8b18-9d3ce064b7c0",
   "metadata": {},
   "outputs": [
    {
     "name": "stdout",
     "output_type": "stream",
     "text": [
      "Sum of list is: 15\n"
     ]
    }
   ],
   "source": [
    "def sum(x,y):\n",
    "    return x+y\n",
    "arr1=[1,2,3,4,5]\n",
    "from functools import reduce\n",
    "print(\"Sum of list is:\",reduce(sum,arr1))"
   ]
  },
  {
   "cell_type": "code",
   "execution_count": 115,
   "id": "c61a216c-861e-410c-b125-15e7cfa8923a",
   "metadata": {},
   "outputs": [
    {
     "name": "stdout",
     "output_type": "stream",
     "text": [
      "The largest element in array is: 88\n"
     ]
    }
   ],
   "source": [
    "array1=[1,2,3,4,5,66,88]\n",
    "print(\"The largest element in array is:\",max(array1))"
   ]
  },
  {
   "cell_type": "code",
   "execution_count": 9,
   "id": "5dd16280-9b9e-4e4a-a017-f49a1555353f",
   "metadata": {},
   "outputs": [
    {
     "name": "stdout",
     "output_type": "stream",
     "text": [
      "Sum of array: 15\n"
     ]
    }
   ],
   "source": [
    "def sum(x):\n",
    "    sum=0\n",
    "    for i in x:\n",
    "        sum+=i\n",
    "    print(\"Sum of array:\",sum)\n",
    "arr1=[1,2,3,4,5]\n",
    "sum(arr1)"
   ]
  },
  {
   "cell_type": "code",
   "execution_count": null,
   "id": "7ce19020-5a02-4292-bf73-daf86dc684d1",
   "metadata": {},
   "outputs": [],
   "source": []
  }
 ],
 "metadata": {
  "kernelspec": {
   "display_name": "Python 3 (ipykernel)",
   "language": "python",
   "name": "python3"
  },
  "language_info": {
   "codemirror_mode": {
    "name": "ipython",
    "version": 3
   },
   "file_extension": ".py",
   "mimetype": "text/x-python",
   "name": "python",
   "nbconvert_exporter": "python",
   "pygments_lexer": "ipython3",
   "version": "3.12.4"
  }
 },
 "nbformat": 4,
 "nbformat_minor": 5
}
