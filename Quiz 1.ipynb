{
 "cells": [
  {
   "cell_type": "markdown",
   "id": "ccde3431-f08f-493b-a4b9-1e2a1742ae18",
   "metadata": {},
   "source": [
    "# 1. Write a Python Program to Convert Decimal to Binary, Octal and Hexadecimal.\n"
   ]
  },
  {
   "cell_type": "code",
   "execution_count": 25,
   "id": "a93321c7-c3f4-478f-bc0d-47eb16c899bb",
   "metadata": {},
   "outputs": [
    {
     "name": "stdin",
     "output_type": "stream",
     "text": [
      "Enter the Number: 44\n"
     ]
    },
    {
     "name": "stdout",
     "output_type": "stream",
     "text": [
      "Binary Number is: 0b101100\n",
      "Octal Number is: 0o54\n",
      "Hexal Number is: 0x2c\n"
     ]
    }
   ],
   "source": [
    "a=int(input(\"Enter the Number:\"))\n",
    "print(\"Binary Number is:\",bin(a))\n",
    "print(\"Octal Number is:\",oct(a))\n",
    "print(\"Hexal Number is:\",hex(a))"
   ]
  },
  {
   "cell_type": "markdown",
   "id": "37ea7ebf-31e8-4680-8440-9a92f62c4087",
   "metadata": {},
   "source": [
    "# 2.Write a Python Program to Display Fibonacci Sequence Using Recursion."
   ]
  },
  {
   "cell_type": "code",
   "execution_count": 41,
   "id": "dc035749-53a1-4a42-9e12-3d7adf9a6c90",
   "metadata": {},
   "outputs": [
    {
     "name": "stdout",
     "output_type": "stream",
     "text": [
      "Fibonacci Sequence is:\n",
      "0 1 1 2 3 5 8 13 21 34 "
     ]
    }
   ],
   "source": [
    "def fib(n):\n",
    "    if n<=1:\n",
    "        return n\n",
    "    else:\n",
    "        return fib(n-1)+fib(n-2)\n",
    "print(\"Fibonacci Sequence is:\")\n",
    "for num in range(10):\n",
    "    print(fib(num),end=\" \")"
   ]
  },
  {
   "cell_type": "code",
   "execution_count": null,
   "id": "d6c531cb-b984-4b1c-9917-fff99faefa1b",
   "metadata": {},
   "outputs": [],
   "source": []
  }
 ],
 "metadata": {
  "kernelspec": {
   "display_name": "Python 3 (ipykernel)",
   "language": "python",
   "name": "python3"
  },
  "language_info": {
   "codemirror_mode": {
    "name": "ipython",
    "version": 3
   },
   "file_extension": ".py",
   "mimetype": "text/x-python",
   "name": "python",
   "nbconvert_exporter": "python",
   "pygments_lexer": "ipython3",
   "version": "3.12.4"
  }
 },
 "nbformat": 4,
 "nbformat_minor": 5
}
