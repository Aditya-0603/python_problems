{
 "cells": [
  {
   "cell_type": "markdown",
   "id": "a742187b-7262-4d33-b0eb-c90cdfbbaf91",
   "metadata": {},
   "source": [
    "1. Write a Python Program for array rotation\n",
    "Original Array: [1, 2, 3, 4, 5] \n",
    "\n",
    "Rotated Array: [3, 4, 5, 1, 2]\n",
    "\n",
    "2.Write a Python Program to Split the array & add the first part to the end?\n",
    "Original Array: [1, 2, 3, 4, 5]\n",
    "\n",
    "Array after splitting and adding: [4, 5, 1, 2, 3]"
   ]
  },
  {
   "cell_type": "code",
   "execution_count": 94,
   "id": "0e640953-b7f8-4da4-acb3-b6c2356dcb9d",
   "metadata": {},
   "outputs": [
    {
     "name": "stdout",
     "output_type": "stream",
     "text": [
      "The rotated array is: [3, 4, 5, 1, 2]\n"
     ]
    }
   ],
   "source": [
    "original=[1,2,3,4,5]\n",
    "rotated=original[2:]+original[:2]\n",
    "print(\"The rotated array is:\",rotated)"
   ]
  },
  {
   "cell_type": "code",
   "execution_count": 100,
   "id": "9afe0bd5-3a44-4c15-8ae5-40342887dac1",
   "metadata": {},
   "outputs": [
    {
     "name": "stdout",
     "output_type": "stream",
     "text": [
      "The array after splitting and adding is: [4, 5, 1, 2, 3]\n"
     ]
    }
   ],
   "source": [
    "original=[1,2,3,4,5]\n",
    "result=original[3:]+original[:3]\n",
    "print(\"The array after splitting and adding is:\",result)"
   ]
  },
  {
   "cell_type": "code",
   "execution_count": null,
   "id": "4df773e1-7ade-48a6-9c55-8fc6e9b6cb5d",
   "metadata": {},
   "outputs": [],
   "source": []
  }
 ],
 "metadata": {
  "kernelspec": {
   "display_name": "Python 3 (ipykernel)",
   "language": "python",
   "name": "python3"
  },
  "language_info": {
   "codemirror_mode": {
    "name": "ipython",
    "version": 3
   },
   "file_extension": ".py",
   "mimetype": "text/x-python",
   "name": "python",
   "nbconvert_exporter": "python",
   "pygments_lexer": "ipython3",
   "version": "3.12.4"
  }
 },
 "nbformat": 4,
 "nbformat_minor": 5
}
